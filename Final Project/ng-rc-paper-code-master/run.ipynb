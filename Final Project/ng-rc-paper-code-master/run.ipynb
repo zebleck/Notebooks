{
 "cells": [
  {
   "cell_type": "code",
   "execution_count": 2,
   "metadata": {},
   "outputs": [
    {
     "name": "stdout",
     "output_type": "stream",
     "text": [
      "Running DoubleScrollNVAR-RK23.py\n",
      "\n",
      " ridge regression parameter: 0.001\n",
      "\n",
      "mean, meanerr, train nrmse: 0.0012042106947353257 3.108093416932126e-05\n",
      "mean, meanerr, test nrmse: 0.010298158990295417 0.007915704810829602\n",
      "\n",
      "mean, meanerr, fp1 nL2 distance: 0.002181561804583552 0.0003191278382690266\n",
      "mean, meanerr, fp2 nL2 distance: 0.002181561804583581 0.0003191278382690062\n",
      "mean, meanerr, fp0 nL2 distance: 0.0 0.0\n",
      "\n",
      "mean, meanerr, fp1 [-1.71829982e-03 -8.39790990e-05 -1.34054721e-03] [2.50739209e-04 2.14005484e-05 1.96896613e-04]\n",
      "mean, meanerr, fp2 [1.71829982e-03 8.39790990e-05 1.34054721e-03] [2.50739209e-04 2.14005484e-05 1.96896613e-04]\n",
      "mean, meanerr, fp0 [0. 0. 0.] [0. 0. 0.]\n",
      "\n",
      "nL2 distance to mean, meanerr, fp1 0.0021809799569937746 0.0003195252894516955\n",
      "nL2 distance to mean, meanerr, fp2 0.0021809799569938036 0.0003195252894516753\n",
      "nL2 distance to mean, meanerr, fp0 0.0 0.0\n",
      "Running LorenzConstLinQuadraticNVAR-Noise.py\n",
      "standard deviation for x,y,z: 7.844032708641467 8.877059059981402 8.468700433296256\n",
      "training nrmse: 0.0009637856630428841\n",
      "test nrmse: 0.01398768313711183\n",
      "Running LorenzConstLinQuadraticNVAR-NRMSE-vsTraintime.py\n",
      "ridge regression parameter: 2.5e-06\n",
      "\n"
     ]
    },
    {
     "name": "stderr",
     "output_type": "stream",
     "text": [
      "/mnt/c/Users/Kontor/Github Repos/Notebooks/ng-rc-paper-code-master/LorenzConstLinQuadraticNVAR-NRMSE-vsTraintime.py:170: RuntimeWarning: overflow encountered in scalar multiply\n",
      "  out_test[dlin+1+cnt]=x_test[row,j]*x_test[column,j]\n",
      "/mnt/c/Users/Kontor/Github Repos/Notebooks/ng-rc-paper-code-master/LorenzConstLinQuadraticNVAR-NRMSE-vsTraintime.py:175: RuntimeWarning: invalid value encountered in matmul\n",
      "  x_test[0:d,j+1] = x_test[0:d,j] + W_out @ out_test[:]\n",
      "/mnt/c/Users/Kontor/Github Repos/Notebooks/ng-rc-paper-code-master/LorenzConstLinQuadraticNVAR-NRMSE-vsTraintime.py:178: RuntimeWarning: overflow encountered in square\n",
      "  test_nrmse = np.sqrt(np.mean((x[0:d,warmtrain_pts-1:warmtrain_pts+lyaptime_pts-1]-x_test[0:d,0:lyaptime_pts])**2)/total_var)\n"
     ]
    },
    {
     "name": "stdout",
     "output_type": "stream",
     "text": [
      "test nrmse for traintime = 4.0 mean, meanerr: nan nan\n",
      "test nrmse for traintime = 5.0 mean, meanerr: 0.013601539776317988 0.007547794034649166\n",
      "test nrmse for traintime = 6.0 mean, meanerr: 0.021926928282454742 0.017699959286703582\n",
      "test nrmse for traintime = 7.0 mean, meanerr: 0.0021331985856448002 0.0005606713201987518\n",
      "test nrmse for traintime = 8.0 mean, meanerr: 0.005658105933880267 0.0021745556744504077\n",
      "test nrmse for traintime = 9.0 mean, meanerr: nan nan\n",
      "test nrmse for traintime = 10.0 mean, meanerr: 0.016079313134086223 0.014067578627240427\n",
      "test nrmse for traintime = 11.0 mean, meanerr: nan nan\n",
      "test nrmse for traintime = 12.0 mean, meanerr: 0.00486477645267277 0.0020133281612015426\n",
      "test nrmse for traintime = 13.0 mean, meanerr: 0.0017935570436251433 0.0002469181298228952\n",
      "test nrmse for traintime = 14.0 mean, meanerr: 0.0023093660081494804 0.0006491906119762233\n",
      "test nrmse for traintime = 15.0 mean, meanerr: 0.001913929304410303 0.00032854050252510036\n",
      "test nrmse for traintime = 16.0 mean, meanerr: 0.0023017428929507254 0.0003686524908636884\n",
      "test nrmse for traintime = 17.0 mean, meanerr: 0.0019256236989666415 0.0004757715376372044\n",
      "test nrmse for traintime = 18.0 mean, meanerr: 0.0026833272777710424 0.0008860973232793975\n",
      "test nrmse for traintime = 19.0 mean, meanerr: 0.0026727471668884033 0.0007879489350973866\n",
      "test nrmse for traintime = 20.0 mean, meanerr: 0.004347733443134346 0.0020446005879613924\n",
      "test nrmse for traintime = 21.0 mean, meanerr: 0.0022704969710858882 0.0003803402702351917\n",
      "test nrmse for traintime = 22.0 mean, meanerr: 0.0056110234600291456 0.002881018804770378\n",
      "test nrmse for traintime = 23.0 mean, meanerr: 0.007791746538932715 0.0037992558429659836\n",
      "test nrmse for traintime = 24.0 mean, meanerr: 0.006216310707137372 0.0034363706657801695\n",
      "Figure(350x220)\n",
      "Running LorenzConstLinQuadraticNVARtimedelay-RK23.py\n",
      "training nrmse: 9.97601394122268e-05\n",
      "test nrmse: 0.0006249215049804426\n",
      "Running LorenzConstLinQuadraticNVARtimedelayNRMSE-RK23.py\n"
     ]
    },
    {
     "name": "stderr",
     "output_type": "stream",
     "text": [
      "/mnt/c/Users/Kontor/Github Repos/Notebooks/.venv/lib/python3.10/site-packages/scipy/optimize/_minpack_py.py:178: RuntimeWarning: The iteration is not making good progress, as measured by the \n",
      "  improvement from the last five Jacobian evaluations.\n",
      "  warnings.warn(msg, RuntimeWarning)\n"
     ]
    },
    {
     "name": "stdout",
     "output_type": "stream",
     "text": [
      "\n",
      " ridge regression parameter: 2.5e-06\n",
      "\n",
      "mean, meanerr, train nrmse: 0.0001055818340906678 2.1801359596817503e-06\n",
      "mean, meanerr, test nrmse: 0.0303092144500167 0.02740201792984524\n",
      "\n",
      "mean, meanerr, fp1 nL2 distance: 0.0017168460790974523 0.00028041704443859184\n",
      "mean, meanerr, fp2 nL2 distance: 0.0008341094846597488 9.498490494363543e-05\n",
      "mean, meanerr, fp0 nL2 distance: 0.005001035875751918 0.001639742820602457\n",
      "\n",
      "mean, meanerr, fp1 [0.00101608 0.00061838 0.0011838 ] [0.00014808 0.00016872 0.00020342]\n",
      "mean, meanerr, fp2 [-6.45807400e-04  7.71125891e-05  3.95501345e-04] [4.09009869e-05 1.04736820e-04 8.94975800e-05]\n",
      "mean, meanerr, fp0 [-1.95383374e-04 -2.04513798e-03  9.45189145e-05] [0.00024275 0.00180948 0.00119736]\n",
      "\n",
      "nL2 distance to mean, meanerr, fp1 0.0016781511901031046 0.0003029366650943032\n",
      "nL2 distance to mean, meanerr, fp2 0.0007612061897173491 0.0001437098085750801\n",
      "nL2 distance to mean, meanerr, fp0 0.0020566229240438416 0.002183305456321404\n",
      "Running LorenzConstLinQuadraticNVARtimedelayReturnMap-RK23.py\n"
     ]
    },
    {
     "name": "stderr",
     "output_type": "stream",
     "text": [
      "/mnt/c/Users/Kontor/Github Repos/Notebooks/.venv/lib/python3.10/site-packages/scipy/interpolate/_fitpack_impl.py:724: RuntimeWarning: The number of zeros exceeds mest\n",
      "  warnings.warn(RuntimeWarning(\"The number of zeros exceeds mest\"))\n",
      "/mnt/c/Users/Kontor/Github Repos/Notebooks/.venv/lib/python3.10/site-packages/scipy/interpolate/_fitpack_impl.py:724: RuntimeWarning: The number of zeros exceeds mest\n",
      "  warnings.warn(RuntimeWarning(\"The number of zeros exceeds mest\"))\n"
     ]
    },
    {
     "name": "stdout",
     "output_type": "stream",
     "text": [
      "Running LorenzPredictZQuadraticNVARtimedelay-RK23.py\n",
      "training rms: 0.0858520447651461\n",
      "training nrms: 0.009889760824881865\n",
      "testing rms: 0.07567723303412241\n",
      "testing nrms: 0.008717669295398824\n",
      "Running LorenzPredictZQuadraticNVARtimedelayNRMSE-RK23.py\n",
      "\n",
      " ridge regression parameter: 0.05\n",
      "\n",
      "mean, meanerr, train nrmse: 0.009313943011165313 0.0009161046168440429\n",
      "mean, meanerr, test nrmse: 0.02725003420675982 0.0085982941942232\n",
      "mean, meanerr, run time: 0.01885714000018197 0.004892799421288168\n",
      "Running LorenzPredictZQuadraticNVARtimedelayWout-RK23.py\n",
      "Running LorenzQuadraticNVARtimedelayWout-RK23.py\n"
     ]
    }
   ],
   "source": [
    "# Run all python files in the current directory\n",
    "\n",
    "import os\n",
    "import sys\n",
    "import glob\n",
    "\n",
    "# Get all python files in the current directory\n",
    "files = glob.glob('*.py')\n",
    "\n",
    "# Run all python files in the current directory\n",
    "for file in files:\n",
    "\tprint('Running ' + file)\n",
    "\tos.system('python ' + file)"
   ]
  }
 ],
 "metadata": {
  "kernelspec": {
   "display_name": ".venv",
   "language": "python",
   "name": "python3"
  },
  "language_info": {
   "codemirror_mode": {
    "name": "ipython",
    "version": 3
   },
   "file_extension": ".py",
   "mimetype": "text/x-python",
   "name": "python",
   "nbconvert_exporter": "python",
   "pygments_lexer": "ipython3",
   "version": "3.10.10"
  },
  "orig_nbformat": 4,
  "vscode": {
   "interpreter": {
    "hash": "17d500382eeed1e650f4156d3f71421742f739cba6757b741566d21fadf53c66"
   }
  }
 },
 "nbformat": 4,
 "nbformat_minor": 2
}
