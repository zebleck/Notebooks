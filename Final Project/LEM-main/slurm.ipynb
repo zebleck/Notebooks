{
 "cells": [
  {
   "attachments": {},
   "cell_type": "markdown",
   "metadata": {},
   "source": [
    "[Infrastructure](https://cegit.ziti.uni-heidelberg.de/general/wiki/-/wikis/infrastructure)\n",
    "\n",
    "get states:<br>\n",
    "`sinfo -O \"nodehost,statecompact,cpus,memory,gres`\n",
    "\n",
    "cegate (using public-key)<br>\n",
    "`cegate` or `ssh fkontor@cegate.ziti.uni-heidelberg.de -i ~/.ssh/id_cegate`\n",
    "\n",
    "ceg-octane (once logged into cegate)<br>\n",
    "`ssh ceg-octane`\n",
    "\n",
    "get shell on any node<br>\n",
    "`srun [-w <nodename>] --pty bash`\n",
    "\n",
    "List running jobs<br>\n",
    "`sqeue ` or `squeue -u <username>`\n",
    "\n",
    "Copy file from here to ceg-octane<br>\n",
    "`scp -i ~/.ssh/id_cegate requirements.txt fkontor@cegate.ziti.uni-heidelberg.de:~/ && ssh -t -i ~/.ssh/id_cegate fkontor@cegate.ziti.uni-heidelberg.de ssh ceg-octane \"scp -i ~/.ssh/id_cegate ~/requirements.txt ceg-octane:~/\" && ssh -t -i ~/.ssh/id_cegate fkontor@cegate.ziti.uni-heideberg rm requirements.txt`"
   ]
  }
 ],
 "metadata": {
  "kernelspec": {
   "display_name": ".venv",
   "language": "python",
   "name": "python3"
  },
  "language_info": {
   "name": "python",
   "version": "3.7.16"
  },
  "orig_nbformat": 4,
  "vscode": {
   "interpreter": {
    "hash": "6ed13573336562fa784bc8a19c3cc42acff865ff2f63f2d0a15d74d2cf8fdbf2"
   }
  }
 },
 "nbformat": 4,
 "nbformat_minor": 2
}
