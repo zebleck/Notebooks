{
 "cells": [
  {
   "attachments": {},
   "cell_type": "markdown",
   "metadata": {},
   "source": [
    "# Possible papers:\n",
    "\n",
    "[Neural Ordinary Differential Equations](https://arxiv.org/abs/1806.07366)<br>\n",
    "[Deep Transformer Models for Time Series Forecasting:\n",
    "The Influenza Prevalence Case](https://arxiv.org/pdf/2001.08317.pdf)<br>\n",
    "[Latent ODEs for Irregularly-Sampled Time Series](https://arxiv.org/abs/1907.03907)<br>\n",
    "[Data-driven forecasting of high-dimensional chaotic systems with long short-term memory networks](https://royalsocietypublishing.org/doi/10.1098/rspa.2017.0844)<br>\n",
    "[Long Expressive Memory for Sequence Modeling](https://github.com/tk-rusch/LEM)\n",
    "[Model-Free Prediction of Large Spatiotemporally Chaotic Systems from Data: A Reservoir Computing Approach](https://journals.aps.org/prl/abstract/10.1103/PhysRevLett.120.024102)<br>\n",
    "[Next Generation Reservoir Computing](https://www.nature.com/articles/s41467-021-25801-2)"
   ]
  }
 ],
 "metadata": {
  "language_info": {
   "name": "python"
  },
  "orig_nbformat": 4
 },
 "nbformat": 4,
 "nbformat_minor": 2
}
