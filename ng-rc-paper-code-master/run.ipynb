{
 "cells": [
  {
   "cell_type": "code",
   "execution_count": 1,
   "metadata": {},
   "outputs": [
    {
     "name": "stdout",
     "output_type": "stream",
     "text": [
      "Running DoubleScrollNVAR-RK23.py\n"
     ]
    },
    {
     "name": "stderr",
     "output_type": "stream",
     "text": [
      "Traceback (most recent call last):\n",
      "  File \"/mnt/c/Users/Kontor/Github Repos/Notebooks/ng-rc-paper-code-master/DoubleScrollNVAR-RK23.py\", line 17, in <module>\n",
      "    from scipy.integrate import solve_ivp\n",
      "ModuleNotFoundError: No module named 'scipy'\n"
     ]
    },
    {
     "name": "stdout",
     "output_type": "stream",
     "text": [
      "Running LorenzConstLinQuadraticNVAR-Noise.py\n"
     ]
    },
    {
     "name": "stderr",
     "output_type": "stream",
     "text": [
      "Traceback (most recent call last):\n",
      "  File \"/mnt/c/Users/Kontor/Github Repos/Notebooks/ng-rc-paper-code-master/LorenzConstLinQuadraticNVAR-Noise.py\", line 12, in <module>\n",
      "    from scipy.integrate import solve_ivp\n",
      "ModuleNotFoundError: No module named 'scipy'\n"
     ]
    },
    {
     "name": "stdout",
     "output_type": "stream",
     "text": [
      "Running LorenzConstLinQuadraticNVAR-NRMSE-vsTraintime.py\n"
     ]
    },
    {
     "name": "stderr",
     "output_type": "stream",
     "text": [
      "Traceback (most recent call last):\n",
      "  File \"/mnt/c/Users/Kontor/Github Repos/Notebooks/ng-rc-paper-code-master/LorenzConstLinQuadraticNVAR-NRMSE-vsTraintime.py\", line 14, in <module>\n",
      "    from scipy.integrate import solve_ivp\n",
      "ModuleNotFoundError: No module named 'scipy'\n"
     ]
    },
    {
     "name": "stdout",
     "output_type": "stream",
     "text": [
      "Running LorenzConstLinQuadraticNVARtimedelay-RK23.py\n"
     ]
    },
    {
     "name": "stderr",
     "output_type": "stream",
     "text": [
      "Traceback (most recent call last):\n",
      "  File \"/mnt/c/Users/Kontor/Github Repos/Notebooks/ng-rc-paper-code-master/LorenzConstLinQuadraticNVARtimedelay-RK23.py\", line 12, in <module>\n",
      "    from scipy.integrate import solve_ivp\n",
      "ModuleNotFoundError: No module named 'scipy'\n"
     ]
    },
    {
     "name": "stdout",
     "output_type": "stream",
     "text": [
      "Running LorenzConstLinQuadraticNVARtimedelayNRMSE-RK23.py\n"
     ]
    },
    {
     "name": "stderr",
     "output_type": "stream",
     "text": [
      "Traceback (most recent call last):\n",
      "  File \"/mnt/c/Users/Kontor/Github Repos/Notebooks/ng-rc-paper-code-master/LorenzConstLinQuadraticNVARtimedelayNRMSE-RK23.py\", line 14, in <module>\n",
      "    from scipy.integrate import solve_ivp\n",
      "ModuleNotFoundError: No module named 'scipy'\n"
     ]
    },
    {
     "name": "stdout",
     "output_type": "stream",
     "text": [
      "Running LorenzConstLinQuadraticNVARtimedelayReturnMap-RK23.py\n"
     ]
    },
    {
     "name": "stderr",
     "output_type": "stream",
     "text": [
      "Traceback (most recent call last):\n",
      "  File \"/mnt/c/Users/Kontor/Github Repos/Notebooks/ng-rc-paper-code-master/LorenzConstLinQuadraticNVARtimedelayReturnMap-RK23.py\", line 12, in <module>\n",
      "    from scipy.integrate import solve_ivp\n",
      "ModuleNotFoundError: No module named 'scipy'\n"
     ]
    },
    {
     "name": "stdout",
     "output_type": "stream",
     "text": [
      "Running LorenzPredictZQuadraticNVARtimedelay-RK23.py\n"
     ]
    },
    {
     "name": "stderr",
     "output_type": "stream",
     "text": [
      "Traceback (most recent call last):\n",
      "  File \"/mnt/c/Users/Kontor/Github Repos/Notebooks/ng-rc-paper-code-master/LorenzPredictZQuadraticNVARtimedelay-RK23.py\", line 14, in <module>\n",
      "    from scipy.integrate import solve_ivp\n",
      "ModuleNotFoundError: No module named 'scipy'\n"
     ]
    },
    {
     "name": "stdout",
     "output_type": "stream",
     "text": [
      "Running LorenzPredictZQuadraticNVARtimedelayNRMSE-RK23.py\n"
     ]
    },
    {
     "name": "stderr",
     "output_type": "stream",
     "text": [
      "Traceback (most recent call last):\n",
      "  File \"/mnt/c/Users/Kontor/Github Repos/Notebooks/ng-rc-paper-code-master/LorenzPredictZQuadraticNVARtimedelayNRMSE-RK23.py\", line 14, in <module>\n",
      "    from scipy.integrate import solve_ivp\n",
      "ModuleNotFoundError: No module named 'scipy'\n"
     ]
    },
    {
     "name": "stdout",
     "output_type": "stream",
     "text": [
      "Running LorenzPredictZQuadraticNVARtimedelayWout-RK23.py\n"
     ]
    },
    {
     "name": "stderr",
     "output_type": "stream",
     "text": [
      "Traceback (most recent call last):\n",
      "  File \"/mnt/c/Users/Kontor/Github Repos/Notebooks/ng-rc-paper-code-master/LorenzPredictZQuadraticNVARtimedelayWout-RK23.py\", line 15, in <module>\n",
      "    from scipy.integrate import solve_ivp\n",
      "ModuleNotFoundError: No module named 'scipy'\n"
     ]
    },
    {
     "name": "stdout",
     "output_type": "stream",
     "text": [
      "Running LorenzQuadraticNVARtimedelayWout-RK23.py\n"
     ]
    },
    {
     "name": "stderr",
     "output_type": "stream",
     "text": [
      "Traceback (most recent call last):\n",
      "  File \"/mnt/c/Users/Kontor/Github Repos/Notebooks/ng-rc-paper-code-master/LorenzQuadraticNVARtimedelayWout-RK23.py\", line 13, in <module>\n",
      "    from scipy.integrate import solve_ivp\n",
      "ModuleNotFoundError: No module named 'scipy'\n"
     ]
    }
   ],
   "source": [
    "# Run all python files in the current directory\n",
    "\n",
    "import os\n",
    "import sys\n",
    "import glob\n",
    "\n",
    "# Get all python files in the current directory\n",
    "files = glob.glob('*.py')\n",
    "\n",
    "# Run all python files in the current directory\n",
    "for file in files:\n",
    "\tprint('Running ' + file)\n",
    "\tos.system('python ' + file)"
   ]
  }
 ],
 "metadata": {
  "kernelspec": {
   "display_name": ".venv",
   "language": "python",
   "name": "python3"
  },
  "language_info": {
   "codemirror_mode": {
    "name": "ipython",
    "version": 3
   },
   "file_extension": ".py",
   "mimetype": "text/x-python",
   "name": "python",
   "nbconvert_exporter": "python",
   "pygments_lexer": "ipython3",
   "version": "3.10.10"
  },
  "orig_nbformat": 4,
  "vscode": {
   "interpreter": {
    "hash": "17d500382eeed1e650f4156d3f71421742f739cba6757b741566d21fadf53c66"
   }
  }
 },
 "nbformat": 4,
 "nbformat_minor": 2
}
