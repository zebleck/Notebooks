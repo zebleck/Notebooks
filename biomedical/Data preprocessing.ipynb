{
 "cells": [
  {
   "attachments": {},
   "cell_type": "markdown",
   "metadata": {},
   "source": [
    "# Brain Tumor Analysis: Data Preprocessing\n",
    "\n",
    "This Jupyter notebook is part of a project focused on analyzing brain tumor data using machine learning techniques. The dataset we are working with contains histopathological images and corresponding clinical annotations of 3,115 brain tumor patients, covering a wide variety of tumor types. This rich dataset was digitized from a large dedicated brain tumor bank and made publicly available for research purposes. \n",
    "\n",
    "Our task here is twofold:\n",
    "\n",
    "1. **Data Loading**: We begin by loading the `annotation.csv` file which contains clinical annotations for each patient. This includes patient demographics, tumor characteristics (type, grade, subtype), and other relevant clinical details. Note that `label` in the code corresponds to a patient's tumor type.\n",
    "\n",
    "2. **Data Downloading and Preprocessing**: The histopathological images corresponding to each patient are hosted on the EBRAINS data proxy API. This notebook contains a script to download these `.ndpi` files. Given the irregular sizes of these images, we have implemented a mechanism to ensure that downloaded images have a minimum size (512x512, 1024x1024, 2048x2048 pixels) for consistency and ease of further processing.\n",
    "\n",
    "The notebook also includes a utility to check which files are still missing, in case the download process is interrupted and you end up with an incomplete dataset. This allows for a more controlled download process and helps ensure data integrity.\n",
    "\n",
    "Please note that this data preprocessing step is crucial to prepare our dataset for subsequent exploratory data analysis, feature extraction, and machine learning modeling.\n",
    "\n",
    "Feel free to explore, modify, and run the cells as needed. If you have any questions or encounter any issues, please reach out to the team.\n"
   ]
  },
  {
   "attachments": {},
   "cell_type": "markdown",
   "metadata": {},
   "source": [
    "## Imports and annotations data"
   ]
  },
  {
   "cell_type": "code",
   "execution_count": 2,
   "metadata": {},
   "outputs": [],
   "source": [
    "import pandas as pd\n",
    "import matplotlib.pyplot as plt\n",
    "import seaborn as sns\n",
    "import os\n",
    "import glob\n",
    "import requests\n",
    "import json\n",
    "from tqdm.notebook import tqdm\n",
    "import requests\n",
    "import shutil\n",
    "\n",
    "with os.add_dll_directory('C://openslide-win64/bin'):\n",
    "\timport openslide\n",
    "\n",
    "# Read the CSV file containing patient information\n",
    "data_file = 'annotation.csv'\n",
    "df = pd.read_csv(data_file)\n",
    "\n",
    "# Count the number of occurrences for each diagnosis\n",
    "diagnosis_counts = df['diagnosis'].value_counts()\n",
    "\n",
    "# Get unique diagnosis labels, replace missing values with 'nan'\n",
    "diagnosis_labels = df['diagnosis'].fillna('nan').unique()"
   ]
  },
  {
   "attachments": {},
   "cell_type": "markdown",
   "metadata": {},
   "source": [
    "## Data Preprocessing and Image Processing for NDPI Files \n",
    "\n",
    "This code snippet represents the image processing part of the Jupyter notebook. It includes functions for loading an NDPI file, finding the magnification level that meets the minimum size requirement, downsampling the image, and saving the processed image and its metadata as a PNG file and a JSON file, respectively."
   ]
  },
  {
   "cell_type": "code",
   "execution_count": 3,
   "metadata": {},
   "outputs": [],
   "source": [
    "def get_image_with_min_size(file_path, min_size=2048):\n",
    "\t# Open the NDPI file using OpenSlide\n",
    "\tndpi_file = openslide.OpenSlide(file_path)\n",
    "\tndpi_metadata = dict(ndpi_file.properties)\n",
    "\n",
    "\t# Get the number of magnification levels in the NDPI file\n",
    "\tmag_level_count = int(ndpi_metadata['openslide.level-count']) - 1\n",
    "\ttarget_mag_level = mag_level_count\n",
    "\twhile target_mag_level >= 0:\n",
    "\t\t# Get the width and height of the requested magnification level\n",
    "\t\ttarget_ndpi_width = int(ndpi_metadata[f'openslide.level[{target_mag_level}].width'])\n",
    "\t\ttarget_ndpi_height = int(ndpi_metadata[f'openslide.level[{target_mag_level}].height'])\n",
    "\t\tif target_ndpi_width >= min_size and target_ndpi_height >= min_size:\n",
    "\t\t\tbreak\n",
    "\t\ttarget_mag_level -= 1\n",
    "\tif target_mag_level < 0:\n",
    "\t\tprint('Error: NDPI file is too small')\n",
    "\t\treturn None, ndpi_metadata\n",
    "\n",
    "\ttarget_ndpi_width = int(ndpi_metadata[f'openslide.level[{target_mag_level}].width'])\n",
    "\ttarget_ndpi_height = int(ndpi_metadata[f'openslide.level[{target_mag_level}].height'])\n",
    "\n",
    "\tmag_level = target_mag_level\n",
    "\n",
    "\t# Iterate through magnification levels to find the one with a valid image\n",
    "\twhile mag_level >= 0:\n",
    "\t\t# Reopen the file after trying to read_region, otherwise you get an error\n",
    "\t\tif mag_level < target_mag_level:\n",
    "\t\t\tndpi_file = openslide.OpenSlide(file_path)\n",
    "\n",
    "\t\t# Get the width and height of the requested magnification level\n",
    "\t\tndpi_width = int(ndpi_metadata[f'openslide.level[{mag_level}].width'])\n",
    "\t\tndpi_height = int(ndpi_metadata[f'openslide.level[{mag_level}].height'])\n",
    "\t\ttry:\n",
    "            # Load the image at the requested magnification level\n",
    "\t\t\tndpi_image = ndpi_file.read_region((0, 0), mag_level, (ndpi_width, ndpi_height))\n",
    "\n",
    "            # Convert the image to RGB format\n",
    "\t\t\tndpi_image = ndpi_image.convert('RGB')\n",
    "\n",
    "\t\t\tif mag_level < target_mag_level:\n",
    "\t\t\t\t# Downsample the image to the target magnification level\n",
    "\t\t\t\tndpi_image = ndpi_image.resize((target_ndpi_width, target_ndpi_height))\n",
    "\n",
    "            # Close the NDPI file and return the image\n",
    "\t\t\tndpi_file.close()\n",
    "\t\t\treturn ndpi_image, ndpi_metadata\n",
    "\t\texcept:\n",
    "\t\t\tprint('Trying again with mag', mag_level - 1)\n",
    "\t\t\tmag_level -= 1\n",
    "\t\t\tndpi_file.close()\n",
    "\t\n",
    "\tprint(f'Error: Could not load image from {file_path} at any magnification level')\n",
    "\n",
    "def save_image(processed_path, ndpi_file_name):\n",
    "\t# Construct the file paths\n",
    "\tfile_path = os.path.join(processed_path, ndpi_file_name)\n",
    "\toutput_image_path = file_path[:-5] + '.png'\n",
    "\n",
    "\t# Get the image and metadata using the get_image_with_min_size function\n",
    "\tndpi_image, metadata = get_image_with_min_size(file_path)\n",
    "\n",
    "\t# Save the image\n",
    "\ttry:\n",
    "\t\tndpi_image.save(output_image_path)\n",
    "\texcept:\n",
    "\t\tprint(f'Didn\\'t save {output_image_path}')\n",
    "\n",
    "    # Save the metadata as a JSON file\n",
    "\tmetadata_path = os.path.join(processed_path, 'metadata')\n",
    "\tif not os.path.exists(metadata_path):\n",
    "\t\tos.mkdir(metadata_path)\n",
    "\t# Construct the metadata file path\n",
    "\tmetadata_file_path = os.path.join(metadata_path, ndpi_file_name[:-5] + '.json')\n",
    "\n",
    "\t# Write the metadata to the JSON file\n",
    "\twith open(metadata_file_path, 'w') as metadata_file:\n",
    "\t\tjson.dump(metadata, metadata_file)"
   ]
  },
  {
   "attachments": {},
   "cell_type": "markdown",
   "metadata": {},
   "source": [
    "\n",
    "## Missing File Check\n",
    "\n",
    "The code compares the processed data files with the diagnosis labels and determines which files are missing by comparing the file counts."
   ]
  },
  {
   "cell_type": "code",
   "execution_count": 9,
   "metadata": {},
   "outputs": [
    {
     "name": "stdout",
     "output_type": "stream",
     "text": [
      "Total missing: 1544\n",
      "Non-matching labels:\n",
      "Angiomatous meningioma: 31 32\n",
      "Myxopapillary ependymoma: 22 23\n",
      "Haemangioblastoma: 19 88\n",
      "Pilomyxoid astrocytoma: 18 24\n",
      "Anaplastic oligodendroglioma, IDH-mutant and 1p/19q codeleted: 17 91\n",
      "Ganglioglioma: 16 88\n",
      "Meningothelial meningioma: 16 104\n",
      "Giant cell glioblastoma: 15 21\n",
      "Germinoma: 15 20\n",
      "Haemangiopericytoma: 13 34\n",
      "Psammomatous meningioma: 12 28\n",
      "Microcystic meningioma: 12 23\n",
      "Olfactory neuroblastoma: 8 10\n",
      "Osteoma: 8 9\n",
      "Medulloblastoma, non-WNT/non-SHH: 8 32\n",
      "Schwannoma: 7 81\n",
      "Gliosarcoma: 7 59\n",
      "Pilocytic astrocytoma: 3 173\n",
      "Papillary craniopharyngioma: 3 13\n",
      "Neurofibroma: 3 16\n",
      "Glioblastoma, IDH-wildtype: 1 474\n",
      "Pleomorphic xanthoastrocytoma: 1 21\n",
      "Paraganglioma: 1 17\n",
      "MALT lymphoma of the dura: 1 5\n",
      "Papillary meningioma: 1 3\n",
      "Pituicytoma: 1 3\n",
      "Transitional meningioma: -1 68\n",
      "Pituitary adenoma: -1 99\n",
      "Oligodendroglioma, IDH-mutant and 1p/19q codeleted: -1 85\n",
      "Medulloblastoma, SHH-activated and TP53-wildtype: -1 9\n",
      "Rhabdoid meningioma: -1 5\n",
      "Subependymoma: -1 24\n",
      "Subependymal giant cell astrocytoma: -1 14\n"
     ]
    }
   ],
   "source": [
    "def compare(compare_path):\n",
    "    missing = []\n",
    "\n",
    "    # Iterate through the diagnosis labels\n",
    "    for label in diagnosis_labels:\n",
    "        folder_path = os.path.join(compare_path, label.replace(\"/\", \"-\"))\n",
    "\n",
    "        # Count the number of files with PNG extension in the folder\n",
    "        num_files = len(glob.glob(os.path.join(folder_path, '*.png')))\n",
    "\n",
    "        # Remove the folder if it exists but has no files\n",
    "        if os.path.exists(folder_path) and num_files == 0:\n",
    "            shutil.rmtree(folder_path)\n",
    "\n",
    "        # Check if the folder exists and determine the number of present files \n",
    "        if not os.path.exists(folder_path):\n",
    "            missing.append((label, -1))\n",
    "        else:\n",
    "            missing.append((label, num_files))\n",
    "\n",
    "    return missing\n",
    "\n",
    "# IMPORTANT: set the folder path, where the processed data is stored\n",
    "folder_path = \"C:\\\\Users\\\\Kontor\\\\Github Repos\\\\Notebooks\\\\biomedical\\\\processed\"\n",
    "\n",
    "# Compare the processed data with the diagnosis labels\n",
    "missing_labels = compare(folder_path)\n",
    "\n",
    "matching_labels = []\n",
    "non_matching_labels = []\n",
    "total_missing = 0\n",
    "\n",
    "# Classify labels as matching or non-matching based on the number of files\n",
    "# This makes it easy to see which labels are still missing\n",
    "for label, num_files in missing_labels:\n",
    "    if label != 'nan':\n",
    "        if num_files == diagnosis_counts[label]:\n",
    "            matching_labels.append((label, num_files))\n",
    "        else:\n",
    "            total_missing += diagnosis_counts[label] - num_files\n",
    "            non_matching_labels.append((label, num_files))\n",
    "\n",
    "matching_labels = sorted(matching_labels, key=lambda x: x[1], reverse=True)\n",
    "non_matching_labels = sorted(non_matching_labels, key=lambda x: x[1], reverse=True)\n",
    "\n",
    "#print(\"Matching labels:\")\n",
    "#for label, num_files in matching_labels:\n",
    "#    print(f\"{label}: {num_files}\")\n",
    "#print()\n",
    "print('Total missing:', total_missing)\n",
    "print(\"Non-matching labels:\")\n",
    "for label, num_files in non_matching_labels:\n",
    "    print(f\"{label}: {num_files}\", diagnosis_counts[label])"
   ]
  },
  {
   "attachments": {},
   "cell_type": "markdown",
   "metadata": {},
   "source": [
    "# Download stream"
   ]
  },
  {
   "attachments": {},
   "cell_type": "markdown",
   "metadata": {},
   "source": [
    "The size of the full dataset is 3948.2 GB, which means we cannot download the entire dataset in one go. To solve this, we connect to the ebrains data proxy API, allowing us to download each file automatically via script. Progress is also shown while downloading."
   ]
  },
  {
   "cell_type": "code",
   "execution_count": 10,
   "metadata": {},
   "outputs": [],
   "source": [
    "# Define the URL and header for the API request\n",
    "url = 'https://data-proxy.ebrains.eu/api/v1/datasets/8fc108ab-e2b4-406f-8999-60269dc1f994?limit=5000'\n",
    "\n",
    "# Replace the token with your own\n",
    "token = \"eyJhbGciOiJSUzI1NiIsInR5cCIgOiAiSldUIiwia2lkIiA6ICJfNkZVSHFaSDNIRmVhS0pEZDhXcUx6LWFlZ3kzYXFodVNJZ1RXaTA1U2k0In0.eyJleHAiOjE2ODQzMzI0OTEsImlhdCI6MTY4Mzc2Mjk4NCwiYXV0aF90aW1lIjoxNjgzNzI3NjkxLCJqdGkiOiI1MDllY2I0NS0yMThkLTQ4ZWMtODJmNS1kYTQxMTNmZDE4MzgiLCJpc3MiOiJodHRwczovL2lhbS5lYnJhaW5zLmV1L2F1dGgvcmVhbG1zL2hicCIsImF1ZCI6InRlYW0iLCJzdWIiOiI4NTBlNTA2Ni1mNGQwLTRjOGItYmNiYy02ZjM4ZWQzYjIzMjIiLCJ0eXAiOiJCZWFyZXIiLCJhenAiOiJkYXRhLXByb3h5LWZyb250Iiwibm9uY2UiOiI2MTQ5ZTk0ZC1kOTA1LTRkZjctOTc3Yy00NmZhODE1ZDY0MjIiLCJzZXNzaW9uX3N0YXRlIjoiNzNjZmNlMWYtOTQ5MC00OTg4LTlhOTktMjBlZGJkYmFkNjIwIiwiYWNyIjoiMCIsImFsbG93ZWQtb3JpZ2lucyI6WyJodHRwczovL2RhdGEtcHJveHkuZWJyYWlucy5ldSIsImh0dHBzOi8vZGF0YS1wcm94eS1wcGQuZWJyYWlucy5ldSJdLCJzY29wZSI6InByb2ZpbGUgcm9sZXMgZW1haWwgb3BlbmlkIHRlYW0iLCJzaWQiOiI3M2NmY2UxZi05NDkwLTQ5ODgtOWE5OS0yMGVkYmRiYWQ2MjAiLCJlbWFpbF92ZXJpZmllZCI6dHJ1ZSwibmFtZSI6IkZhYmlhbiBLb250b3IiLCJtaXRyZWlkLXN1YiI6IjMxMDM5NiIsInByZWZlcnJlZF91c2VybmFtZSI6ImZrb250b3IiLCJnaXZlbl9uYW1lIjoiRmFiaWFuIiwiZmFtaWx5X25hbWUiOiJLb250b3IiLCJlbWFpbCI6ImYua29udG9yQHN0dWQudW5pLWhlaWRlbGJlcmcuZGUifQ.vCfltXUJkYxIBTIAi_h6yqYfesukqxmJNtJ4K3dfz5Sv4LmSLjcdbtIk3p7cxrBOwbvfpWT0k7wOm5LrQLpQazA76phPkfyOHEhPtXqLmagd78e9M7KB8Awb2SZcjVee5uq7r8VGTgrd-e03SmGTdBWTuG4mVYluDKA4rwpD37qCC0mEOmn1QH4rdF2P93gKAYQXZCM831fii22bOiDNlyr5cbnq4rAmO3uI0jnp7um2uGAXet1ik96yaeiOgmlVRLSv_AWBb0YMc3cblcVnN16tcFK5IlK5OpkcvzTS5t8pjwtiiCrTS6hQokjWUEueqQnM6v4N35iBGnKcI1HYpw\"\n",
    "header = f\"Bearer {token}\"\n",
    "\n",
    "# Function to send an API request\n",
    "def request(url, header):\n",
    "\t# Send the request, including the authorization token\n",
    "\t# You can get it by inspecting the network traffic in your browser on the EBRAINS Data-Proxy website\n",
    "\tresponse = requests.get(url, headers={'Authorization': header})\n",
    "\tif response.status_code == 200:\n",
    "\t\treturn response.json()\n",
    "\telse:\n",
    "\t\tprint(response.json())\n",
    "\t\tprint(f'Request failed with status code {response.status_code}')\n",
    "\t\treturn None\n",
    "\n",
    "# Function to download a file with progress display\t\n",
    "def download(url, filename, header):\n",
    "\t\n",
    "\twith requests.get(url, headers={'Authorization': header}, stream=True) as r:\n",
    "\t\ttotal_size = int(r.headers.get('content-length', 0))\n",
    "\t\tblock_size = 1024 # 1 Kibibyte\n",
    "\n",
    "\t\t# Initialize the progress bar\n",
    "\t\tprogress_bar = tqdm(total=total_size, unit=\"iB\", unit_scale=True)\n",
    "\n",
    "\t\t# Write the downloaded data to the file while displaying the progress bar\n",
    "\t\twith open(filename, \"wb\") as f:\n",
    "\t\t\tfor chunk in r.iter_content(block_size):\n",
    "\t\t\t\tprogress_bar.update(len(chunk))\n",
    "\t\t\t\tf.write(chunk)\n",
    "\t\t\n",
    "\t\tprogress_bar.close()\n",
    "\t\tr.close()\n",
    "\t\t\n",
    "\t# Verify if the download was successful\n",
    "\tif total_size != 0 and progress_bar.n != total_size:\n",
    "\t\tprint(\"ERROR, something went wrong\")\n",
    "\t\treturn False\n",
    "\telse:\n",
    "\t\treturn True\n",
    "\n",
    "# Send request that returns information about the dataset\n",
    "data = request(url, header)"
   ]
  },
  {
   "attachments": {},
   "cell_type": "markdown",
   "metadata": {},
   "source": [
    "# Automated download\n",
    "\n",
    "This code iterates over the objects in the retrieved data from the ebrains data proxy API. For each object, it extracts the label and file name, creates the necessary folder and file paths, and downloads the NDPI file if the corresponding PNG file doesn't exist. It then processes the downloaded file by converting it to PNG format and removes the NDPI file. The code keeps track of the total number of files downloaded and displays the count at the end."
   ]
  },
  {
   "cell_type": "code",
   "execution_count": 11,
   "metadata": {},
   "outputs": [
    {
     "name": "stdout",
     "output_type": "stream",
     "text": [
      "32/32: Starting download of Angiomatous meningioma/a1982bd3-357f-11eb-aec7-001a7dda7111.ndpi\n",
      "True\n",
      "17/88: Starting download of Ganglioglioma/a19593da-357f-11eb-92b5-001a7dda7111.ndpi\n",
      "False\n"
     ]
    },
    {
     "data": {
      "application/json": {
       "ascii": false,
       "bar_format": null,
       "colour": null,
       "elapsed": 0.006998777389526367,
       "initial": 0,
       "n": 0,
       "ncols": null,
       "nrows": null,
       "postfix": null,
       "prefix": "",
       "rate": null,
       "total": 415668374,
       "unit": "iB",
       "unit_divisor": 1000,
       "unit_scale": true
      },
      "application/vnd.jupyter.widget-view+json": {
       "model_id": "b6463717bbca41839ce85b37acb07f12",
       "version_major": 2,
       "version_minor": 0
      },
      "text/plain": [
       "  0%|          | 0.00/416M [00:00<?, ?iB/s]"
      ]
     },
     "metadata": {},
     "output_type": "display_data"
    },
    {
     "name": "stdout",
     "output_type": "stream",
     "text": [
      "18/88: Starting download of Ganglioglioma/a19593e3-357f-11eb-b0fb-001a7dda7111.ndpi\n",
      "False\n"
     ]
    },
    {
     "data": {
      "application/json": {
       "ascii": false,
       "bar_format": null,
       "colour": null,
       "elapsed": 0.005000114440917969,
       "initial": 0,
       "n": 0,
       "ncols": null,
       "nrows": null,
       "postfix": null,
       "prefix": "",
       "rate": null,
       "total": 1019504117,
       "unit": "iB",
       "unit_divisor": 1000,
       "unit_scale": true
      },
      "application/vnd.jupyter.widget-view+json": {
       "model_id": "edf67f8a5b6b41d2a6e958236753da4d",
       "version_major": 2,
       "version_minor": 0
      },
      "text/plain": [
       "  0%|          | 0.00/1.02G [00:00<?, ?iB/s]"
      ]
     },
     "metadata": {},
     "output_type": "display_data"
    },
    {
     "name": "stdout",
     "output_type": "stream",
     "text": [
      "19/88: Starting download of Ganglioglioma/a19593f1-357f-11eb-b7af-001a7dda7111.ndpi\n",
      "False\n"
     ]
    },
    {
     "data": {
      "application/json": {
       "ascii": false,
       "bar_format": null,
       "colour": null,
       "elapsed": 0.006999492645263672,
       "initial": 0,
       "n": 0,
       "ncols": null,
       "nrows": null,
       "postfix": null,
       "prefix": "",
       "rate": null,
       "total": 339707226,
       "unit": "iB",
       "unit_divisor": 1000,
       "unit_scale": true
      },
      "application/vnd.jupyter.widget-view+json": {
       "model_id": "4b8159a484554bbcae79567553bfa074",
       "version_major": 2,
       "version_minor": 0
      },
      "text/plain": [
       "  0%|          | 0.00/340M [00:00<?, ?iB/s]"
      ]
     },
     "metadata": {},
     "output_type": "display_data"
    },
    {
     "name": "stdout",
     "output_type": "stream",
     "text": [
      "20/88: Starting download of Ganglioglioma/a195941c-357f-11eb-8385-001a7dda7111.ndpi\n",
      "False\n"
     ]
    },
    {
     "data": {
      "application/json": {
       "ascii": false,
       "bar_format": null,
       "colour": null,
       "elapsed": 0.006000995635986328,
       "initial": 0,
       "n": 0,
       "ncols": null,
       "nrows": null,
       "postfix": null,
       "prefix": "",
       "rate": null,
       "total": 582132653,
       "unit": "iB",
       "unit_divisor": 1000,
       "unit_scale": true
      },
      "application/vnd.jupyter.widget-view+json": {
       "model_id": "1a1c8e3c41d44129befd85cbda6e7b34",
       "version_major": 2,
       "version_minor": 0
      },
      "text/plain": [
       "  0%|          | 0.00/582M [00:00<?, ?iB/s]"
      ]
     },
     "metadata": {},
     "output_type": "display_data"
    },
    {
     "name": "stdout",
     "output_type": "stream",
     "text": [
      "21/88: Starting download of Ganglioglioma/a195943b-357f-11eb-a19b-001a7dda7111.ndpi\n",
      "False\n"
     ]
    },
    {
     "data": {
      "application/json": {
       "ascii": false,
       "bar_format": null,
       "colour": null,
       "elapsed": 0.012000322341918945,
       "initial": 0,
       "n": 0,
       "ncols": null,
       "nrows": null,
       "postfix": null,
       "prefix": "",
       "rate": null,
       "total": 3031679964,
       "unit": "iB",
       "unit_divisor": 1000,
       "unit_scale": true
      },
      "application/vnd.jupyter.widget-view+json": {
       "model_id": "b2b6f300e34248949e7bc46510dea902",
       "version_major": 2,
       "version_minor": 0
      },
      "text/plain": [
       "  0%|          | 0.00/3.03G [00:00<?, ?iB/s]"
      ]
     },
     "metadata": {},
     "output_type": "display_data"
    },
    {
     "name": "stdout",
     "output_type": "stream",
     "text": [
      "22/88: Starting download of Ganglioglioma/a195bac2-357f-11eb-91f8-001a7dda7111.ndpi\n",
      "False\n"
     ]
    },
    {
     "data": {
      "application/json": {
       "ascii": false,
       "bar_format": null,
       "colour": null,
       "elapsed": 0.0049991607666015625,
       "initial": 0,
       "n": 0,
       "ncols": null,
       "nrows": null,
       "postfix": null,
       "prefix": "",
       "rate": null,
       "total": 1153126621,
       "unit": "iB",
       "unit_divisor": 1000,
       "unit_scale": true
      },
      "application/vnd.jupyter.widget-view+json": {
       "model_id": "fa80110fc0804fb4a8630db5918ad7ac",
       "version_major": 2,
       "version_minor": 0
      },
      "text/plain": [
       "  0%|          | 0.00/1.15G [00:00<?, ?iB/s]"
      ]
     },
     "metadata": {},
     "output_type": "display_data"
    },
    {
     "name": "stdout",
     "output_type": "stream",
     "text": [
      "23/88: Starting download of Ganglioglioma/a195baf0-357f-11eb-9f46-001a7dda7111.ndpi\n",
      "False\n"
     ]
    },
    {
     "data": {
      "application/json": {
       "ascii": false,
       "bar_format": null,
       "colour": null,
       "elapsed": 0.004997730255126953,
       "initial": 0,
       "n": 0,
       "ncols": null,
       "nrows": null,
       "postfix": null,
       "prefix": "",
       "rate": null,
       "total": 1091851125,
       "unit": "iB",
       "unit_divisor": 1000,
       "unit_scale": true
      },
      "application/vnd.jupyter.widget-view+json": {
       "model_id": "7fe97c45c77a4094a1c0582fba3a7506",
       "version_major": 2,
       "version_minor": 0
      },
      "text/plain": [
       "  0%|          | 0.00/1.09G [00:00<?, ?iB/s]"
      ]
     },
     "metadata": {},
     "output_type": "display_data"
    },
    {
     "name": "stdout",
     "output_type": "stream",
     "text": [
      "24/88: Starting download of Ganglioglioma/a195baf6-357f-11eb-8f0f-001a7dda7111.ndpi\n",
      "False\n"
     ]
    },
    {
     "data": {
      "application/json": {
       "ascii": false,
       "bar_format": null,
       "colour": null,
       "elapsed": 0.005967378616333008,
       "initial": 0,
       "n": 0,
       "ncols": null,
       "nrows": null,
       "postfix": null,
       "prefix": "",
       "rate": null,
       "total": 425980124,
       "unit": "iB",
       "unit_divisor": 1000,
       "unit_scale": true
      },
      "application/vnd.jupyter.widget-view+json": {
       "model_id": "fa22b3f71aa2492dbfcaee0c126066af",
       "version_major": 2,
       "version_minor": 0
      },
      "text/plain": [
       "  0%|          | 0.00/426M [00:00<?, ?iB/s]"
      ]
     },
     "metadata": {},
     "output_type": "display_data"
    },
    {
     "name": "stdout",
     "output_type": "stream",
     "text": [
      "25/88: Starting download of Ganglioglioma/a195bafa-357f-11eb-9620-001a7dda7111.ndpi\n",
      "False\n"
     ]
    },
    {
     "data": {
      "application/json": {
       "ascii": false,
       "bar_format": null,
       "colour": null,
       "elapsed": 0.004999637603759766,
       "initial": 0,
       "n": 0,
       "ncols": null,
       "nrows": null,
       "postfix": null,
       "prefix": "",
       "rate": null,
       "total": 417998925,
       "unit": "iB",
       "unit_divisor": 1000,
       "unit_scale": true
      },
      "application/vnd.jupyter.widget-view+json": {
       "model_id": "c75833b7da2c4678977e25f7e5a7a195",
       "version_major": 2,
       "version_minor": 0
      },
      "text/plain": [
       "  0%|          | 0.00/418M [00:00<?, ?iB/s]"
      ]
     },
     "metadata": {},
     "output_type": "display_data"
    },
    {
     "name": "stdout",
     "output_type": "stream",
     "text": [
      "26/88: Starting download of Ganglioglioma/a195bb25-357f-11eb-93e7-001a7dda7111.ndpi\n",
      "False\n"
     ]
    },
    {
     "data": {
      "application/json": {
       "ascii": false,
       "bar_format": null,
       "colour": null,
       "elapsed": 0.005002021789550781,
       "initial": 0,
       "n": 0,
       "ncols": null,
       "nrows": null,
       "postfix": null,
       "prefix": "",
       "rate": null,
       "total": 2098516182,
       "unit": "iB",
       "unit_divisor": 1000,
       "unit_scale": true
      },
      "application/vnd.jupyter.widget-view+json": {
       "model_id": "a573ebadfe6f44e9869059b0f3e4c727",
       "version_major": 2,
       "version_minor": 0
      },
      "text/plain": [
       "  0%|          | 0.00/2.10G [00:00<?, ?iB/s]"
      ]
     },
     "metadata": {},
     "output_type": "display_data"
    },
    {
     "name": "stdout",
     "output_type": "stream",
     "text": [
      "27/88: Starting download of Ganglioglioma/a195bb40-357f-11eb-bd5b-001a7dda7111.ndpi\n",
      "False\n"
     ]
    },
    {
     "data": {
      "application/json": {
       "ascii": false,
       "bar_format": null,
       "colour": null,
       "elapsed": 0.004998683929443359,
       "initial": 0,
       "n": 0,
       "ncols": null,
       "nrows": null,
       "postfix": null,
       "prefix": "",
       "rate": null,
       "total": 385563277,
       "unit": "iB",
       "unit_divisor": 1000,
       "unit_scale": true
      },
      "application/vnd.jupyter.widget-view+json": {
       "model_id": "98dd6a67e4724fe18c9d64a3588d4825",
       "version_major": 2,
       "version_minor": 0
      },
      "text/plain": [
       "  0%|          | 0.00/386M [00:00<?, ?iB/s]"
      ]
     },
     "metadata": {},
     "output_type": "display_data"
    },
    {
     "name": "stdout",
     "output_type": "stream",
     "text": [
      "28/88: Starting download of Ganglioglioma/a195bb49-357f-11eb-9475-001a7dda7111.ndpi\n",
      "False\n"
     ]
    },
    {
     "data": {
      "application/json": {
       "ascii": false,
       "bar_format": null,
       "colour": null,
       "elapsed": 0.0050008296966552734,
       "initial": 0,
       "n": 0,
       "ncols": null,
       "nrows": null,
       "postfix": null,
       "prefix": "",
       "rate": null,
       "total": 1859453025,
       "unit": "iB",
       "unit_divisor": 1000,
       "unit_scale": true
      },
      "application/vnd.jupyter.widget-view+json": {
       "model_id": "9b0377f5f8224df6aee093c25aa5524c",
       "version_major": 2,
       "version_minor": 0
      },
      "text/plain": [
       "  0%|          | 0.00/1.86G [00:00<?, ?iB/s]"
      ]
     },
     "metadata": {},
     "output_type": "display_data"
    },
    {
     "name": "stdout",
     "output_type": "stream",
     "text": [
      "29/88: Starting download of Ganglioglioma/a195e203-357f-11eb-83c5-001a7dda7111.ndpi\n",
      "False\n"
     ]
    },
    {
     "data": {
      "application/json": {
       "ascii": false,
       "bar_format": null,
       "colour": null,
       "elapsed": 0.005002260208129883,
       "initial": 0,
       "n": 0,
       "ncols": null,
       "nrows": null,
       "postfix": null,
       "prefix": "",
       "rate": null,
       "total": 232213345,
       "unit": "iB",
       "unit_divisor": 1000,
       "unit_scale": true
      },
      "application/vnd.jupyter.widget-view+json": {
       "model_id": "54a433743c724849a70ddfa5d53bd35c",
       "version_major": 2,
       "version_minor": 0
      },
      "text/plain": [
       "  0%|          | 0.00/232M [00:00<?, ?iB/s]"
      ]
     },
     "metadata": {},
     "output_type": "display_data"
    },
    {
     "name": "stdout",
     "output_type": "stream",
     "text": [
      "30/88: Starting download of Ganglioglioma/a1960963-357f-11eb-a434-001a7dda7111.ndpi\n",
      "False\n"
     ]
    },
    {
     "data": {
      "application/json": {
       "ascii": false,
       "bar_format": null,
       "colour": null,
       "elapsed": 0.009999990463256836,
       "initial": 0,
       "n": 0,
       "ncols": null,
       "nrows": null,
       "postfix": null,
       "prefix": "",
       "rate": null,
       "total": 379632414,
       "unit": "iB",
       "unit_divisor": 1000,
       "unit_scale": true
      },
      "application/vnd.jupyter.widget-view+json": {
       "model_id": "9ab7a80b51304d9980a7bbd9acc9b12c",
       "version_major": 2,
       "version_minor": 0
      },
      "text/plain": [
       "  0%|          | 0.00/380M [00:00<?, ?iB/s]"
      ]
     },
     "metadata": {},
     "output_type": "display_data"
    },
    {
     "name": "stdout",
     "output_type": "stream",
     "text": [
      "31/88: Starting download of Ganglioglioma/a196097c-357f-11eb-9d41-001a7dda7111.ndpi\n",
      "False\n"
     ]
    },
    {
     "data": {
      "application/json": {
       "ascii": false,
       "bar_format": null,
       "colour": null,
       "elapsed": 0.005963802337646484,
       "initial": 0,
       "n": 0,
       "ncols": null,
       "nrows": null,
       "postfix": null,
       "prefix": "",
       "rate": null,
       "total": 1702635742,
       "unit": "iB",
       "unit_divisor": 1000,
       "unit_scale": true
      },
      "application/vnd.jupyter.widget-view+json": {
       "model_id": "93cf8a800c334bdfb332c53d6eb6e577",
       "version_major": 2,
       "version_minor": 0
      },
      "text/plain": [
       "  0%|          | 0.00/1.70G [00:00<?, ?iB/s]"
      ]
     },
     "metadata": {},
     "output_type": "display_data"
    },
    {
     "name": "stdout",
     "output_type": "stream",
     "text": [
      "32/88: Starting download of Ganglioglioma/a1960993-357f-11eb-a804-001a7dda7111.ndpi\n",
      "False\n"
     ]
    },
    {
     "data": {
      "application/json": {
       "ascii": false,
       "bar_format": null,
       "colour": null,
       "elapsed": 0.006029844284057617,
       "initial": 0,
       "n": 0,
       "ncols": null,
       "nrows": null,
       "postfix": null,
       "prefix": "",
       "rate": null,
       "total": 1755961276,
       "unit": "iB",
       "unit_divisor": 1000,
       "unit_scale": true
      },
      "application/vnd.jupyter.widget-view+json": {
       "model_id": "6b9382c7d5324d0fa9d5cd4dc2628c0f",
       "version_major": 2,
       "version_minor": 0
      },
      "text/plain": [
       "  0%|          | 0.00/1.76G [00:00<?, ?iB/s]"
      ]
     },
     "metadata": {},
     "output_type": "display_data"
    },
    {
     "name": "stdout",
     "output_type": "stream",
     "text": [
      "33/88: Starting download of Ganglioglioma/a1962fec-357f-11eb-a490-001a7dda7111.ndpi\n",
      "False\n"
     ]
    },
    {
     "data": {
      "application/json": {
       "ascii": false,
       "bar_format": null,
       "colour": null,
       "elapsed": 0.00600123405456543,
       "initial": 0,
       "n": 0,
       "ncols": null,
       "nrows": null,
       "postfix": null,
       "prefix": "",
       "rate": null,
       "total": 199782602,
       "unit": "iB",
       "unit_divisor": 1000,
       "unit_scale": true
      },
      "application/vnd.jupyter.widget-view+json": {
       "model_id": "df2ce3fabd974205bb70a2d8552bea14",
       "version_major": 2,
       "version_minor": 0
      },
      "text/plain": [
       "  0%|          | 0.00/200M [00:00<?, ?iB/s]"
      ]
     },
     "metadata": {},
     "output_type": "display_data"
    },
    {
     "name": "stdout",
     "output_type": "stream",
     "text": [
      "34/88: Starting download of Ganglioglioma/a1963009-357f-11eb-8413-001a7dda7111.ndpi\n",
      "False\n"
     ]
    },
    {
     "data": {
      "application/json": {
       "ascii": false,
       "bar_format": null,
       "colour": null,
       "elapsed": 0.00600123405456543,
       "initial": 0,
       "n": 0,
       "ncols": null,
       "nrows": null,
       "postfix": null,
       "prefix": "",
       "rate": null,
       "total": 1128740057,
       "unit": "iB",
       "unit_divisor": 1000,
       "unit_scale": true
      },
      "application/vnd.jupyter.widget-view+json": {
       "model_id": "e7355390e3644e8dadff2c020d3b7426",
       "version_major": 2,
       "version_minor": 0
      },
      "text/plain": [
       "  0%|          | 0.00/1.13G [00:00<?, ?iB/s]"
      ]
     },
     "metadata": {},
     "output_type": "display_data"
    },
    {
     "name": "stdout",
     "output_type": "stream",
     "text": [
      "35/88: Starting download of Ganglioglioma/a1963018-357f-11eb-acad-001a7dda7111.ndpi\n",
      "False\n"
     ]
    },
    {
     "data": {
      "application/json": {
       "ascii": false,
       "bar_format": null,
       "colour": null,
       "elapsed": 0.005002260208129883,
       "initial": 0,
       "n": 0,
       "ncols": null,
       "nrows": null,
       "postfix": null,
       "prefix": "",
       "rate": null,
       "total": 1293686347,
       "unit": "iB",
       "unit_divisor": 1000,
       "unit_scale": true
      },
      "application/vnd.jupyter.widget-view+json": {
       "model_id": "8bff99f37cea4035a7bf988eed03e28e",
       "version_major": 2,
       "version_minor": 0
      },
      "text/plain": [
       "  0%|          | 0.00/1.29G [00:00<?, ?iB/s]"
      ]
     },
     "metadata": {},
     "output_type": "display_data"
    },
    {
     "name": "stdout",
     "output_type": "stream",
     "text": [
      "36/88: Starting download of Ganglioglioma/a1963045-357f-11eb-8020-001a7dda7111.ndpi\n",
      "False\n"
     ]
    },
    {
     "data": {
      "application/json": {
       "ascii": false,
       "bar_format": null,
       "colour": null,
       "elapsed": 0.0049991607666015625,
       "initial": 0,
       "n": 0,
       "ncols": null,
       "nrows": null,
       "postfix": null,
       "prefix": "",
       "rate": null,
       "total": 449416751,
       "unit": "iB",
       "unit_divisor": 1000,
       "unit_scale": true
      },
      "application/vnd.jupyter.widget-view+json": {
       "model_id": "8b594a1f144a4ac3ade01e93eef92706",
       "version_major": 2,
       "version_minor": 0
      },
      "text/plain": [
       "  0%|          | 0.00/449M [00:00<?, ?iB/s]"
      ]
     },
     "metadata": {},
     "output_type": "display_data"
    },
    {
     "name": "stdout",
     "output_type": "stream",
     "text": [
      "37/88: Starting download of Ganglioglioma/a196305b-357f-11eb-81a7-001a7dda7111.ndpi\n",
      "False\n"
     ]
    },
    {
     "data": {
      "application/json": {
       "ascii": false,
       "bar_format": null,
       "colour": null,
       "elapsed": 0.005004405975341797,
       "initial": 0,
       "n": 0,
       "ncols": null,
       "nrows": null,
       "postfix": null,
       "prefix": "",
       "rate": null,
       "total": 1158508884,
       "unit": "iB",
       "unit_divisor": 1000,
       "unit_scale": true
      },
      "application/vnd.jupyter.widget-view+json": {
       "model_id": "9bcb29f209f14e5aac57b96015d4edab",
       "version_major": 2,
       "version_minor": 0
      },
      "text/plain": [
       "  0%|          | 0.00/1.16G [00:00<?, ?iB/s]"
      ]
     },
     "metadata": {},
     "output_type": "display_data"
    },
    {
     "name": "stdout",
     "output_type": "stream",
     "text": [
      "38/88: Starting download of Ganglioglioma/a196307e-357f-11eb-8efa-001a7dda7111.ndpi\n",
      "False\n"
     ]
    },
    {
     "data": {
      "application/json": {
       "ascii": false,
       "bar_format": null,
       "colour": null,
       "elapsed": 0.0060007572174072266,
       "initial": 0,
       "n": 0,
       "ncols": null,
       "nrows": null,
       "postfix": null,
       "prefix": "",
       "rate": null,
       "total": 530854753,
       "unit": "iB",
       "unit_divisor": 1000,
       "unit_scale": true
      },
      "application/vnd.jupyter.widget-view+json": {
       "model_id": "df9fd2d42f0e4b41a76eb624f2416942",
       "version_major": 2,
       "version_minor": 0
      },
      "text/plain": [
       "  0%|          | 0.00/531M [00:00<?, ?iB/s]"
      ]
     },
     "metadata": {},
     "output_type": "display_data"
    },
    {
     "name": "stdout",
     "output_type": "stream",
     "text": [
      "39/88: Starting download of Ganglioglioma/a1963082-357f-11eb-bb76-001a7dda7111.ndpi\n",
      "False\n"
     ]
    },
    {
     "data": {
      "application/json": {
       "ascii": false,
       "bar_format": null,
       "colour": null,
       "elapsed": 0.012999534606933594,
       "initial": 0,
       "n": 0,
       "ncols": null,
       "nrows": null,
       "postfix": null,
       "prefix": "",
       "rate": null,
       "total": 2855316401,
       "unit": "iB",
       "unit_divisor": 1000,
       "unit_scale": true
      },
      "application/vnd.jupyter.widget-view+json": {
       "model_id": "7be5993fce6944889fa0c9bd594639da",
       "version_major": 2,
       "version_minor": 0
      },
      "text/plain": [
       "  0%|          | 0.00/2.86G [00:00<?, ?iB/s]"
      ]
     },
     "metadata": {},
     "output_type": "display_data"
    },
    {
     "name": "stdout",
     "output_type": "stream",
     "text": [
      "40/88: Starting download of Ganglioglioma/a1963085-357f-11eb-bb06-001a7dda7111.ndpi\n",
      "False\n"
     ]
    },
    {
     "data": {
      "application/json": {
       "ascii": false,
       "bar_format": null,
       "colour": null,
       "elapsed": 0.004999637603759766,
       "initial": 0,
       "n": 0,
       "ncols": null,
       "nrows": null,
       "postfix": null,
       "prefix": "",
       "rate": null,
       "total": 931103606,
       "unit": "iB",
       "unit_divisor": 1000,
       "unit_scale": true
      },
      "application/vnd.jupyter.widget-view+json": {
       "model_id": "cce2f9ff194c429781ccb70ea5cb6ae2",
       "version_major": 2,
       "version_minor": 0
      },
      "text/plain": [
       "  0%|          | 0.00/931M [00:00<?, ?iB/s]"
      ]
     },
     "metadata": {},
     "output_type": "display_data"
    },
    {
     "name": "stdout",
     "output_type": "stream",
     "text": [
      "41/88: Starting download of Ganglioglioma/a19657b3-357f-11eb-8045-001a7dda7111.ndpi\n",
      "False\n"
     ]
    },
    {
     "data": {
      "application/json": {
       "ascii": false,
       "bar_format": null,
       "colour": null,
       "elapsed": 0.00500035285949707,
       "initial": 0,
       "n": 0,
       "ncols": null,
       "nrows": null,
       "postfix": null,
       "prefix": "",
       "rate": null,
       "total": 39730851,
       "unit": "iB",
       "unit_divisor": 1000,
       "unit_scale": true
      },
      "application/vnd.jupyter.widget-view+json": {
       "model_id": "fc4f0688201b41ea879f28e16a09a5f0",
       "version_major": 2,
       "version_minor": 0
      },
      "text/plain": [
       "  0%|          | 0.00/39.7M [00:00<?, ?iB/s]"
      ]
     },
     "metadata": {},
     "output_type": "display_data"
    },
    {
     "name": "stdout",
     "output_type": "stream",
     "text": [
      "42/88: Starting download of Ganglioglioma/a19657ca-357f-11eb-8f64-001a7dda7111.ndpi\n",
      "False\n"
     ]
    },
    {
     "data": {
      "application/json": {
       "ascii": false,
       "bar_format": null,
       "colour": null,
       "elapsed": 0.0060040950775146484,
       "initial": 0,
       "n": 0,
       "ncols": null,
       "nrows": null,
       "postfix": null,
       "prefix": "",
       "rate": null,
       "total": 518037348,
       "unit": "iB",
       "unit_divisor": 1000,
       "unit_scale": true
      },
      "application/vnd.jupyter.widget-view+json": {
       "model_id": "3257b6b337c34584b0aed55895d5be20",
       "version_major": 2,
       "version_minor": 0
      },
      "text/plain": [
       "  0%|          | 0.00/518M [00:00<?, ?iB/s]"
      ]
     },
     "metadata": {},
     "output_type": "display_data"
    },
    {
     "name": "stdout",
     "output_type": "stream",
     "text": [
      "43/88: Starting download of Ganglioglioma/a19657cc-357f-11eb-be83-001a7dda7111.ndpi\n",
      "False\n"
     ]
    },
    {
     "data": {
      "application/json": {
       "ascii": false,
       "bar_format": null,
       "colour": null,
       "elapsed": 0.0050008296966552734,
       "initial": 0,
       "n": 0,
       "ncols": null,
       "nrows": null,
       "postfix": null,
       "prefix": "",
       "rate": null,
       "total": 2946717604,
       "unit": "iB",
       "unit_divisor": 1000,
       "unit_scale": true
      },
      "application/vnd.jupyter.widget-view+json": {
       "model_id": "9c034f0210c041bdb0e84f7c4545ec60",
       "version_major": 2,
       "version_minor": 0
      },
      "text/plain": [
       "  0%|          | 0.00/2.95G [00:00<?, ?iB/s]"
      ]
     },
     "metadata": {},
     "output_type": "display_data"
    },
    {
     "name": "stdout",
     "output_type": "stream",
     "text": [
      "44/88: Starting download of Ganglioglioma/a19657d7-357f-11eb-a83b-001a7dda7111.ndpi\n",
      "False\n"
     ]
    },
    {
     "data": {
      "application/json": {
       "ascii": false,
       "bar_format": null,
       "colour": null,
       "elapsed": 0.004998683929443359,
       "initial": 0,
       "n": 0,
       "ncols": null,
       "nrows": null,
       "postfix": null,
       "prefix": "",
       "rate": null,
       "total": 1633944766,
       "unit": "iB",
       "unit_divisor": 1000,
       "unit_scale": true
      },
      "application/vnd.jupyter.widget-view+json": {
       "model_id": "cdf32173285f45518128ed4c934c2d2c",
       "version_major": 2,
       "version_minor": 0
      },
      "text/plain": [
       "  0%|          | 0.00/1.63G [00:00<?, ?iB/s]"
      ]
     },
     "metadata": {},
     "output_type": "display_data"
    },
    {
     "name": "stdout",
     "output_type": "stream",
     "text": [
      "45/88: Starting download of Ganglioglioma/a1967e61-357f-11eb-91ad-001a7dda7111.ndpi\n",
      "False\n"
     ]
    },
    {
     "data": {
      "application/json": {
       "ascii": false,
       "bar_format": null,
       "colour": null,
       "elapsed": 0.00500035285949707,
       "initial": 0,
       "n": 0,
       "ncols": null,
       "nrows": null,
       "postfix": null,
       "prefix": "",
       "rate": null,
       "total": 2273876328,
       "unit": "iB",
       "unit_divisor": 1000,
       "unit_scale": true
      },
      "application/vnd.jupyter.widget-view+json": {
       "model_id": "a5463370639e40bbb01cc8f7bc1833d6",
       "version_major": 2,
       "version_minor": 0
      },
      "text/plain": [
       "  0%|          | 0.00/2.27G [00:00<?, ?iB/s]"
      ]
     },
     "metadata": {},
     "output_type": "display_data"
    },
    {
     "name": "stdout",
     "output_type": "stream",
     "text": [
      "46/88: Starting download of Ganglioglioma/a1967e75-357f-11eb-baf6-001a7dda7111.ndpi\n",
      "False\n"
     ]
    },
    {
     "data": {
      "application/json": {
       "ascii": false,
       "bar_format": null,
       "colour": null,
       "elapsed": 0.004999399185180664,
       "initial": 0,
       "n": 0,
       "ncols": null,
       "nrows": null,
       "postfix": null,
       "prefix": "",
       "rate": null,
       "total": 234407164,
       "unit": "iB",
       "unit_divisor": 1000,
       "unit_scale": true
      },
      "application/vnd.jupyter.widget-view+json": {
       "model_id": "fd51fc59b2e848d29cc1df4b51b0f488",
       "version_major": 2,
       "version_minor": 0
      },
      "text/plain": [
       "  0%|          | 0.00/234M [00:00<?, ?iB/s]"
      ]
     },
     "metadata": {},
     "output_type": "display_data"
    },
    {
     "name": "stdout",
     "output_type": "stream",
     "text": [
      "47/88: Starting download of Ganglioglioma/a1967e7f-357f-11eb-b10f-001a7dda7111.ndpi\n",
      "False\n"
     ]
    },
    {
     "data": {
      "application/json": {
       "ascii": false,
       "bar_format": null,
       "colour": null,
       "elapsed": 0.006003618240356445,
       "initial": 0,
       "n": 0,
       "ncols": null,
       "nrows": null,
       "postfix": null,
       "prefix": "",
       "rate": null,
       "total": 2194882152,
       "unit": "iB",
       "unit_divisor": 1000,
       "unit_scale": true
      },
      "application/vnd.jupyter.widget-view+json": {
       "model_id": "f86c0a204969411d9f22915923652128",
       "version_major": 2,
       "version_minor": 0
      },
      "text/plain": [
       "  0%|          | 0.00/2.19G [00:00<?, ?iB/s]"
      ]
     },
     "metadata": {},
     "output_type": "display_data"
    },
    {
     "name": "stdout",
     "output_type": "stream",
     "text": [
      "48/88: Starting download of Ganglioglioma/a1967e92-357f-11eb-afac-001a7dda7111.ndpi\n",
      "False\n"
     ]
    },
    {
     "data": {
      "application/json": {
       "ascii": false,
       "bar_format": null,
       "colour": null,
       "elapsed": 0.010999441146850586,
       "initial": 0,
       "n": 0,
       "ncols": null,
       "nrows": null,
       "postfix": null,
       "prefix": "",
       "rate": null,
       "total": 378400087,
       "unit": "iB",
       "unit_divisor": 1000,
       "unit_scale": true
      },
      "application/vnd.jupyter.widget-view+json": {
       "model_id": "0e045b87ff1041aebfef71f41e26e9ae",
       "version_major": 2,
       "version_minor": 0
      },
      "text/plain": [
       "  0%|          | 0.00/378M [00:00<?, ?iB/s]"
      ]
     },
     "metadata": {},
     "output_type": "display_data"
    },
    {
     "name": "stdout",
     "output_type": "stream",
     "text": [
      "49/88: Starting download of Ganglioglioma/a1967ea0-357f-11eb-b5ba-001a7dda7111.ndpi\n",
      "False\n"
     ]
    },
    {
     "data": {
      "application/json": {
       "ascii": false,
       "bar_format": null,
       "colour": null,
       "elapsed": 0.005999326705932617,
       "initial": 0,
       "n": 0,
       "ncols": null,
       "nrows": null,
       "postfix": null,
       "prefix": "",
       "rate": null,
       "total": 149746353,
       "unit": "iB",
       "unit_divisor": 1000,
       "unit_scale": true
      },
      "application/vnd.jupyter.widget-view+json": {
       "model_id": "0eaafc14245145aab597d94181f85da9",
       "version_major": 2,
       "version_minor": 0
      },
      "text/plain": [
       "  0%|          | 0.00/150M [00:00<?, ?iB/s]"
      ]
     },
     "metadata": {},
     "output_type": "display_data"
    },
    {
     "name": "stdout",
     "output_type": "stream",
     "text": [
      "50/88: Starting download of Ganglioglioma/a196a52f-357f-11eb-a190-001a7dda7111.ndpi\n",
      "False\n"
     ]
    },
    {
     "data": {
      "application/json": {
       "ascii": false,
       "bar_format": null,
       "colour": null,
       "elapsed": 0.005998373031616211,
       "initial": 0,
       "n": 0,
       "ncols": null,
       "nrows": null,
       "postfix": null,
       "prefix": "",
       "rate": null,
       "total": 1114604081,
       "unit": "iB",
       "unit_divisor": 1000,
       "unit_scale": true
      },
      "application/vnd.jupyter.widget-view+json": {
       "model_id": "9705e1fe11284fbd9420a067e2afe971",
       "version_major": 2,
       "version_minor": 0
      },
      "text/plain": [
       "  0%|          | 0.00/1.11G [00:00<?, ?iB/s]"
      ]
     },
     "metadata": {},
     "output_type": "display_data"
    },
    {
     "name": "stdout",
     "output_type": "stream",
     "text": [
      "51/88: Starting download of Ganglioglioma/a196a53f-357f-11eb-96a4-001a7dda7111.ndpi\n",
      "False\n"
     ]
    },
    {
     "data": {
      "application/json": {
       "ascii": false,
       "bar_format": null,
       "colour": null,
       "elapsed": 0.0050013065338134766,
       "initial": 0,
       "n": 0,
       "ncols": null,
       "nrows": null,
       "postfix": null,
       "prefix": "",
       "rate": null,
       "total": 178020382,
       "unit": "iB",
       "unit_divisor": 1000,
       "unit_scale": true
      },
      "application/vnd.jupyter.widget-view+json": {
       "model_id": "026f39a58514455d901c7a392f89feec",
       "version_major": 2,
       "version_minor": 0
      },
      "text/plain": [
       "  0%|          | 0.00/178M [00:00<?, ?iB/s]"
      ]
     },
     "metadata": {},
     "output_type": "display_data"
    },
    {
     "name": "stdout",
     "output_type": "stream",
     "text": [
      "52/88: Starting download of Ganglioglioma/a196a584-357f-11eb-ad51-001a7dda7111.ndpi\n",
      "False\n"
     ]
    },
    {
     "data": {
      "application/json": {
       "ascii": false,
       "bar_format": null,
       "colour": null,
       "elapsed": 0.006969928741455078,
       "initial": 0,
       "n": 0,
       "ncols": null,
       "nrows": null,
       "postfix": null,
       "prefix": "",
       "rate": null,
       "total": 2212341536,
       "unit": "iB",
       "unit_divisor": 1000,
       "unit_scale": true
      },
      "application/vnd.jupyter.widget-view+json": {
       "model_id": "9cbf4f3673284a45bb796bfb99f41a7f",
       "version_major": 2,
       "version_minor": 0
      },
      "text/plain": [
       "  0%|          | 0.00/2.21G [00:00<?, ?iB/s]"
      ]
     },
     "metadata": {},
     "output_type": "display_data"
    },
    {
     "name": "stdout",
     "output_type": "stream",
     "text": [
      "53/88: Starting download of Ganglioglioma/a196a59c-357f-11eb-af97-001a7dda7111.ndpi\n",
      "False\n"
     ]
    },
    {
     "data": {
      "application/json": {
       "ascii": false,
       "bar_format": null,
       "colour": null,
       "elapsed": 0.0050008296966552734,
       "initial": 0,
       "n": 0,
       "ncols": null,
       "nrows": null,
       "postfix": null,
       "prefix": "",
       "rate": null,
       "total": 937696416,
       "unit": "iB",
       "unit_divisor": 1000,
       "unit_scale": true
      },
      "application/vnd.jupyter.widget-view+json": {
       "model_id": "060cac253769458e87417559c1a4fc97",
       "version_major": 2,
       "version_minor": 0
      },
      "text/plain": [
       "  0%|          | 0.00/938M [00:00<?, ?iB/s]"
      ]
     },
     "metadata": {},
     "output_type": "display_data"
    },
    {
     "name": "stdout",
     "output_type": "stream",
     "text": [
      "54/88: Starting download of Ganglioglioma/a196cc4d-357f-11eb-aef5-001a7dda7111.ndpi\n",
      "False\n"
     ]
    },
    {
     "data": {
      "application/json": {
       "ascii": false,
       "bar_format": null,
       "colour": null,
       "elapsed": 0.005001544952392578,
       "initial": 0,
       "n": 0,
       "ncols": null,
       "nrows": null,
       "postfix": null,
       "prefix": "",
       "rate": null,
       "total": 1901924961,
       "unit": "iB",
       "unit_divisor": 1000,
       "unit_scale": true
      },
      "application/vnd.jupyter.widget-view+json": {
       "model_id": "0c347dff323844a9a8674321eab34f20",
       "version_major": 2,
       "version_minor": 0
      },
      "text/plain": [
       "  0%|          | 0.00/1.90G [00:00<?, ?iB/s]"
      ]
     },
     "metadata": {},
     "output_type": "display_data"
    },
    {
     "name": "stdout",
     "output_type": "stream",
     "text": [
      "55/88: Starting download of Ganglioglioma/a196f36c-357f-11eb-90a0-001a7dda7111.ndpi\n",
      "False\n"
     ]
    },
    {
     "data": {
      "application/json": {
       "ascii": false,
       "bar_format": null,
       "colour": null,
       "elapsed": 0.007000446319580078,
       "initial": 0,
       "n": 0,
       "ncols": null,
       "nrows": null,
       "postfix": null,
       "prefix": "",
       "rate": null,
       "total": 483387921,
       "unit": "iB",
       "unit_divisor": 1000,
       "unit_scale": true
      },
      "application/vnd.jupyter.widget-view+json": {
       "model_id": "5baf3093b0b44f30b79387e6d713003d",
       "version_major": 2,
       "version_minor": 0
      },
      "text/plain": [
       "  0%|          | 0.00/483M [00:00<?, ?iB/s]"
      ]
     },
     "metadata": {},
     "output_type": "display_data"
    },
    {
     "name": "stdout",
     "output_type": "stream",
     "text": [
      "56/88: Starting download of Ganglioglioma/a196f386-357f-11eb-8150-001a7dda7111.ndpi\n",
      "False\n"
     ]
    },
    {
     "data": {
      "application/json": {
       "ascii": false,
       "bar_format": null,
       "colour": null,
       "elapsed": 0.006000041961669922,
       "initial": 0,
       "n": 0,
       "ncols": null,
       "nrows": null,
       "postfix": null,
       "prefix": "",
       "rate": null,
       "total": 1530734522,
       "unit": "iB",
       "unit_divisor": 1000,
       "unit_scale": true
      },
      "application/vnd.jupyter.widget-view+json": {
       "model_id": "6528eef588f349eeb3952faa28bb0efc",
       "version_major": 2,
       "version_minor": 0
      },
      "text/plain": [
       "  0%|          | 0.00/1.53G [00:00<?, ?iB/s]"
      ]
     },
     "metadata": {},
     "output_type": "display_data"
    },
    {
     "name": "stdout",
     "output_type": "stream",
     "text": [
      "57/88: Starting download of Ganglioglioma/a196f3b9-357f-11eb-8881-001a7dda7111.ndpi\n",
      "False\n"
     ]
    },
    {
     "data": {
      "application/json": {
       "ascii": false,
       "bar_format": null,
       "colour": null,
       "elapsed": 0.0050008296966552734,
       "initial": 0,
       "n": 0,
       "ncols": null,
       "nrows": null,
       "postfix": null,
       "prefix": "",
       "rate": null,
       "total": 1521303907,
       "unit": "iB",
       "unit_divisor": 1000,
       "unit_scale": true
      },
      "application/vnd.jupyter.widget-view+json": {
       "model_id": "3599aa60c5f44a0ab81f3317c9dabdf7",
       "version_major": 2,
       "version_minor": 0
      },
      "text/plain": [
       "  0%|          | 0.00/1.52G [00:00<?, ?iB/s]"
      ]
     },
     "metadata": {},
     "output_type": "display_data"
    },
    {
     "name": "stdout",
     "output_type": "stream",
     "text": [
      "58/88: Starting download of Ganglioglioma/a196f3c3-357f-11eb-8c45-001a7dda7111.ndpi\n",
      "False\n"
     ]
    },
    {
     "data": {
      "application/json": {
       "ascii": false,
       "bar_format": null,
       "colour": null,
       "elapsed": 0.00700068473815918,
       "initial": 0,
       "n": 0,
       "ncols": null,
       "nrows": null,
       "postfix": null,
       "prefix": "",
       "rate": null,
       "total": 1547028176,
       "unit": "iB",
       "unit_divisor": 1000,
       "unit_scale": true
      },
      "application/vnd.jupyter.widget-view+json": {
       "model_id": "4a5353e241494477b541c6faed276845",
       "version_major": 2,
       "version_minor": 0
      },
      "text/plain": [
       "  0%|          | 0.00/1.55G [00:00<?, ?iB/s]"
      ]
     },
     "metadata": {},
     "output_type": "display_data"
    },
    {
     "name": "stdout",
     "output_type": "stream",
     "text": [
      "59/88: Starting download of Ganglioglioma/a196f3c7-357f-11eb-8218-001a7dda7111.ndpi\n",
      "False\n"
     ]
    },
    {
     "data": {
      "application/json": {
       "ascii": false,
       "bar_format": null,
       "colour": null,
       "elapsed": 0.010001182556152344,
       "initial": 0,
       "n": 0,
       "ncols": null,
       "nrows": null,
       "postfix": null,
       "prefix": "",
       "rate": null,
       "total": 449063711,
       "unit": "iB",
       "unit_divisor": 1000,
       "unit_scale": true
      },
      "application/vnd.jupyter.widget-view+json": {
       "model_id": "ab75fd4e832c4e4db7af53b7b7ebbb28",
       "version_major": 2,
       "version_minor": 0
      },
      "text/plain": [
       "  0%|          | 0.00/449M [00:00<?, ?iB/s]"
      ]
     },
     "metadata": {},
     "output_type": "display_data"
    },
    {
     "name": "stdout",
     "output_type": "stream",
     "text": [
      "60/88: Starting download of Ganglioglioma/a1971a7a-357f-11eb-a336-001a7dda7111.ndpi\n",
      "False\n"
     ]
    },
    {
     "data": {
      "application/json": {
       "ascii": false,
       "bar_format": null,
       "colour": null,
       "elapsed": 0.005001544952392578,
       "initial": 0,
       "n": 0,
       "ncols": null,
       "nrows": null,
       "postfix": null,
       "prefix": "",
       "rate": null,
       "total": 2224107887,
       "unit": "iB",
       "unit_divisor": 1000,
       "unit_scale": true
      },
      "application/vnd.jupyter.widget-view+json": {
       "model_id": "80135e3eda964ddd9a111e7e0e664a06",
       "version_major": 2,
       "version_minor": 0
      },
      "text/plain": [
       "  0%|          | 0.00/2.22G [00:00<?, ?iB/s]"
      ]
     },
     "metadata": {},
     "output_type": "display_data"
    },
    {
     "name": "stdout",
     "output_type": "stream",
     "text": [
      "61/88: Starting download of Ganglioglioma/a1971aa8-357f-11eb-94a2-001a7dda7111.ndpi\n",
      "False\n"
     ]
    },
    {
     "data": {
      "application/json": {
       "ascii": false,
       "bar_format": null,
       "colour": null,
       "elapsed": 0.005001544952392578,
       "initial": 0,
       "n": 0,
       "ncols": null,
       "nrows": null,
       "postfix": null,
       "prefix": "",
       "rate": null,
       "total": 418824454,
       "unit": "iB",
       "unit_divisor": 1000,
       "unit_scale": true
      },
      "application/vnd.jupyter.widget-view+json": {
       "model_id": "4ce9d1f6a63a424e8b4416d9ddd51aa5",
       "version_major": 2,
       "version_minor": 0
      },
      "text/plain": [
       "  0%|          | 0.00/419M [00:00<?, ?iB/s]"
      ]
     },
     "metadata": {},
     "output_type": "display_data"
    },
    {
     "name": "stdout",
     "output_type": "stream",
     "text": [
      "62/88: Starting download of Ganglioglioma/a19741f0-357f-11eb-ba72-001a7dda7111.ndpi\n",
      "False\n"
     ]
    },
    {
     "data": {
      "application/json": {
       "ascii": false,
       "bar_format": null,
       "colour": null,
       "elapsed": 0.004998207092285156,
       "initial": 0,
       "n": 0,
       "ncols": null,
       "nrows": null,
       "postfix": null,
       "prefix": "",
       "rate": null,
       "total": 1022711646,
       "unit": "iB",
       "unit_divisor": 1000,
       "unit_scale": true
      },
      "application/vnd.jupyter.widget-view+json": {
       "model_id": "edf044125e2b4cd9838d05b743171818",
       "version_major": 2,
       "version_minor": 0
      },
      "text/plain": [
       "  0%|          | 0.00/1.02G [00:00<?, ?iB/s]"
      ]
     },
     "metadata": {},
     "output_type": "display_data"
    },
    {
     "name": "stdout",
     "output_type": "stream",
     "text": [
      "63/88: Starting download of Ganglioglioma/a1974208-357f-11eb-b8d0-001a7dda7111.ndpi\n",
      "False\n"
     ]
    },
    {
     "data": {
      "application/json": {
       "ascii": false,
       "bar_format": null,
       "colour": null,
       "elapsed": 0.0049991607666015625,
       "initial": 0,
       "n": 0,
       "ncols": null,
       "nrows": null,
       "postfix": null,
       "prefix": "",
       "rate": null,
       "total": 740640380,
       "unit": "iB",
       "unit_divisor": 1000,
       "unit_scale": true
      },
      "application/vnd.jupyter.widget-view+json": {
       "model_id": "980b7e6739924170aaf4f065d2f9490e",
       "version_major": 2,
       "version_minor": 0
      },
      "text/plain": [
       "  0%|          | 0.00/741M [00:00<?, ?iB/s]"
      ]
     },
     "metadata": {},
     "output_type": "display_data"
    },
    {
     "name": "stdout",
     "output_type": "stream",
     "text": [
      "64/88: Starting download of Ganglioglioma/a19768ba-357f-11eb-a9b2-001a7dda7111.ndpi\n",
      "False\n"
     ]
    },
    {
     "data": {
      "application/json": {
       "ascii": false,
       "bar_format": null,
       "colour": null,
       "elapsed": 0.0039997100830078125,
       "initial": 0,
       "n": 0,
       "ncols": null,
       "nrows": null,
       "postfix": null,
       "prefix": "",
       "rate": null,
       "total": 403334412,
       "unit": "iB",
       "unit_divisor": 1000,
       "unit_scale": true
      },
      "application/vnd.jupyter.widget-view+json": {
       "model_id": "40f42e3287cc4a93bebee9104030ea30",
       "version_major": 2,
       "version_minor": 0
      },
      "text/plain": [
       "  0%|          | 0.00/403M [00:00<?, ?iB/s]"
      ]
     },
     "metadata": {},
     "output_type": "display_data"
    },
    {
     "name": "stdout",
     "output_type": "stream",
     "text": [
      "65/88: Starting download of Ganglioglioma/a1978f85-357f-11eb-accf-001a7dda7111.ndpi\n",
      "False\n"
     ]
    },
    {
     "data": {
      "application/json": {
       "ascii": false,
       "bar_format": null,
       "colour": null,
       "elapsed": 0.00500035285949707,
       "initial": 0,
       "n": 0,
       "ncols": null,
       "nrows": null,
       "postfix": null,
       "prefix": "",
       "rate": null,
       "total": 1849329642,
       "unit": "iB",
       "unit_divisor": 1000,
       "unit_scale": true
      },
      "application/vnd.jupyter.widget-view+json": {
       "model_id": "8dcc43c899e140ac9c14b66cf89b0a47",
       "version_major": 2,
       "version_minor": 0
      },
      "text/plain": [
       "  0%|          | 0.00/1.85G [00:00<?, ?iB/s]"
      ]
     },
     "metadata": {},
     "output_type": "display_data"
    },
    {
     "name": "stdout",
     "output_type": "stream",
     "text": [
      "66/88: Starting download of Ganglioglioma/a1978fc7-357f-11eb-82b4-001a7dda7111.ndpi\n",
      "False\n"
     ]
    },
    {
     "data": {
      "application/json": {
       "ascii": false,
       "bar_format": null,
       "colour": null,
       "elapsed": 0.005009174346923828,
       "initial": 0,
       "n": 0,
       "ncols": null,
       "nrows": null,
       "postfix": null,
       "prefix": "",
       "rate": null,
       "total": 733214174,
       "unit": "iB",
       "unit_divisor": 1000,
       "unit_scale": true
      },
      "application/vnd.jupyter.widget-view+json": {
       "model_id": "fd75c174547c47b4a21025971473d622",
       "version_major": 2,
       "version_minor": 0
      },
      "text/plain": [
       "  0%|          | 0.00/733M [00:00<?, ?iB/s]"
      ]
     },
     "metadata": {},
     "output_type": "display_data"
    },
    {
     "name": "stdout",
     "output_type": "stream",
     "text": [
      "67/88: Starting download of Ganglioglioma/a197b6ff-357f-11eb-ac50-001a7dda7111.ndpi\n",
      "False\n"
     ]
    },
    {
     "data": {
      "application/json": {
       "ascii": false,
       "bar_format": null,
       "colour": null,
       "elapsed": 0.004997968673706055,
       "initial": 0,
       "n": 0,
       "ncols": null,
       "nrows": null,
       "postfix": null,
       "prefix": "",
       "rate": null,
       "total": 584986052,
       "unit": "iB",
       "unit_divisor": 1000,
       "unit_scale": true
      },
      "application/vnd.jupyter.widget-view+json": {
       "model_id": "8779d2e245bd4ebe82b3bd5eefd8c966",
       "version_major": 2,
       "version_minor": 0
      },
      "text/plain": [
       "  0%|          | 0.00/585M [00:00<?, ?iB/s]"
      ]
     },
     "metadata": {},
     "output_type": "display_data"
    },
    {
     "name": "stdout",
     "output_type": "stream",
     "text": [
      "68/88: Starting download of Ganglioglioma/a197ddd0-357f-11eb-a558-001a7dda7111.ndpi\n",
      "False\n"
     ]
    },
    {
     "data": {
      "application/json": {
       "ascii": false,
       "bar_format": null,
       "colour": null,
       "elapsed": 0.005000114440917969,
       "initial": 0,
       "n": 0,
       "ncols": null,
       "nrows": null,
       "postfix": null,
       "prefix": "",
       "rate": null,
       "total": 146564874,
       "unit": "iB",
       "unit_divisor": 1000,
       "unit_scale": true
      },
      "application/vnd.jupyter.widget-view+json": {
       "model_id": "a6b926f732124561adf2b8ccf986ad5e",
       "version_major": 2,
       "version_minor": 0
      },
      "text/plain": [
       "  0%|          | 0.00/147M [00:00<?, ?iB/s]"
      ]
     },
     "metadata": {},
     "output_type": "display_data"
    },
    {
     "name": "stdout",
     "output_type": "stream",
     "text": [
      "69/88: Starting download of Ganglioglioma/a197dde4-357f-11eb-8116-001a7dda7111.ndpi\n",
      "False\n"
     ]
    },
    {
     "data": {
      "application/json": {
       "ascii": false,
       "bar_format": null,
       "colour": null,
       "elapsed": 0.004973888397216797,
       "initial": 0,
       "n": 0,
       "ncols": null,
       "nrows": null,
       "postfix": null,
       "prefix": "",
       "rate": null,
       "total": 1128371500,
       "unit": "iB",
       "unit_divisor": 1000,
       "unit_scale": true
      },
      "application/vnd.jupyter.widget-view+json": {
       "model_id": "363b44a429644d93aca1a97f68a378a8",
       "version_major": 2,
       "version_minor": 0
      },
      "text/plain": [
       "  0%|          | 0.00/1.13G [00:00<?, ?iB/s]"
      ]
     },
     "metadata": {},
     "output_type": "display_data"
    },
    {
     "name": "stdout",
     "output_type": "stream",
     "text": [
      "70/88: Starting download of Ganglioglioma/a197dde6-357f-11eb-bf5f-001a7dda7111.ndpi\n",
      "False\n"
     ]
    },
    {
     "data": {
      "application/json": {
       "ascii": false,
       "bar_format": null,
       "colour": null,
       "elapsed": 0.014000415802001953,
       "initial": 0,
       "n": 0,
       "ncols": null,
       "nrows": null,
       "postfix": null,
       "prefix": "",
       "rate": null,
       "total": 576464366,
       "unit": "iB",
       "unit_divisor": 1000,
       "unit_scale": true
      },
      "application/vnd.jupyter.widget-view+json": {
       "model_id": "e2d90644470246fa94b39f2925daf764",
       "version_major": 2,
       "version_minor": 0
      },
      "text/plain": [
       "  0%|          | 0.00/576M [00:00<?, ?iB/s]"
      ]
     },
     "metadata": {},
     "output_type": "display_data"
    },
    {
     "name": "stdout",
     "output_type": "stream",
     "text": [
      "71/88: Starting download of Ganglioglioma/a197ddf0-357f-11eb-933f-001a7dda7111.ndpi\n",
      "False\n"
     ]
    },
    {
     "data": {
      "application/json": {
       "ascii": false,
       "bar_format": null,
       "colour": null,
       "elapsed": 0.005001068115234375,
       "initial": 0,
       "n": 0,
       "ncols": null,
       "nrows": null,
       "postfix": null,
       "prefix": "",
       "rate": null,
       "total": 103914578,
       "unit": "iB",
       "unit_divisor": 1000,
       "unit_scale": true
      },
      "application/vnd.jupyter.widget-view+json": {
       "model_id": "12dbb8f318bf478f9cb043fef5ed6cbe",
       "version_major": 2,
       "version_minor": 0
      },
      "text/plain": [
       "  0%|          | 0.00/104M [00:00<?, ?iB/s]"
      ]
     },
     "metadata": {},
     "output_type": "display_data"
    },
    {
     "name": "stdout",
     "output_type": "stream",
     "text": [
      "72/88: Starting download of Ganglioglioma/a197de33-357f-11eb-bdaa-001a7dda7111.ndpi\n",
      "False\n"
     ]
    },
    {
     "data": {
      "application/json": {
       "ascii": false,
       "bar_format": null,
       "colour": null,
       "elapsed": 0.004999399185180664,
       "initial": 0,
       "n": 0,
       "ncols": null,
       "nrows": null,
       "postfix": null,
       "prefix": "",
       "rate": null,
       "total": 406185700,
       "unit": "iB",
       "unit_divisor": 1000,
       "unit_scale": true
      },
      "application/vnd.jupyter.widget-view+json": {
       "model_id": "2ad0aaa31cad4e6c9d7b945384e5e937",
       "version_major": 2,
       "version_minor": 0
      },
      "text/plain": [
       "  0%|          | 0.00/406M [00:00<?, ?iB/s]"
      ]
     },
     "metadata": {},
     "output_type": "display_data"
    },
    {
     "name": "stdout",
     "output_type": "stream",
     "text": [
      "73/88: Starting download of Ganglioglioma/a19804b9-357f-11eb-8fa4-001a7dda7111.ndpi\n",
      "False\n"
     ]
    },
    {
     "data": {
      "application/json": {
       "ascii": false,
       "bar_format": null,
       "colour": null,
       "elapsed": 0.005000114440917969,
       "initial": 0,
       "n": 0,
       "ncols": null,
       "nrows": null,
       "postfix": null,
       "prefix": "",
       "rate": null,
       "total": 2430935050,
       "unit": "iB",
       "unit_divisor": 1000,
       "unit_scale": true
      },
      "application/vnd.jupyter.widget-view+json": {
       "model_id": "46c322f04d9b4478aba5fca323cbe1c6",
       "version_major": 2,
       "version_minor": 0
      },
      "text/plain": [
       "  0%|          | 0.00/2.43G [00:00<?, ?iB/s]"
      ]
     },
     "metadata": {},
     "output_type": "display_data"
    },
    {
     "name": "stdout",
     "output_type": "stream",
     "text": [
      "74/88: Starting download of Ganglioglioma/a19804f1-357f-11eb-815c-001a7dda7111.ndpi\n",
      "False\n"
     ]
    },
    {
     "data": {
      "application/json": {
       "ascii": false,
       "bar_format": null,
       "colour": null,
       "elapsed": 0.0040340423583984375,
       "initial": 0,
       "n": 0,
       "ncols": null,
       "nrows": null,
       "postfix": null,
       "prefix": "",
       "rate": null,
       "total": 1419009087,
       "unit": "iB",
       "unit_divisor": 1000,
       "unit_scale": true
      },
      "application/vnd.jupyter.widget-view+json": {
       "model_id": "1d41d149fc17499fb9bece9b073f47d5",
       "version_major": 2,
       "version_minor": 0
      },
      "text/plain": [
       "  0%|          | 0.00/1.42G [00:00<?, ?iB/s]"
      ]
     },
     "metadata": {},
     "output_type": "display_data"
    },
    {
     "name": "stdout",
     "output_type": "stream",
     "text": [
      "75/88: Starting download of Ganglioglioma/a198053d-357f-11eb-80f0-001a7dda7111.ndpi\n",
      "False\n"
     ]
    },
    {
     "data": {
      "application/json": {
       "ascii": false,
       "bar_format": null,
       "colour": null,
       "elapsed": 0.010001659393310547,
       "initial": 0,
       "n": 0,
       "ncols": null,
       "nrows": null,
       "postfix": null,
       "prefix": "",
       "rate": null,
       "total": 165748361,
       "unit": "iB",
       "unit_divisor": 1000,
       "unit_scale": true
      },
      "application/vnd.jupyter.widget-view+json": {
       "model_id": "e297e428d2244f039baa3bbb72fe32d4",
       "version_major": 2,
       "version_minor": 0
      },
      "text/plain": [
       "  0%|          | 0.00/166M [00:00<?, ?iB/s]"
      ]
     },
     "metadata": {},
     "output_type": "display_data"
    },
    {
     "name": "stdout",
     "output_type": "stream",
     "text": [
      "76/88: Starting download of Ganglioglioma/a1980549-357f-11eb-9e3e-001a7dda7111.ndpi\n",
      "False\n"
     ]
    },
    {
     "data": {
      "application/json": {
       "ascii": false,
       "bar_format": null,
       "colour": null,
       "elapsed": 0.0050296783447265625,
       "initial": 0,
       "n": 0,
       "ncols": null,
       "nrows": null,
       "postfix": null,
       "prefix": "",
       "rate": null,
       "total": 1839295989,
       "unit": "iB",
       "unit_divisor": 1000,
       "unit_scale": true
      },
      "application/vnd.jupyter.widget-view+json": {
       "model_id": "20ab271571c34c58954bd3748915bf98",
       "version_major": 2,
       "version_minor": 0
      },
      "text/plain": [
       "  0%|          | 0.00/1.84G [00:00<?, ?iB/s]"
      ]
     },
     "metadata": {},
     "output_type": "display_data"
    },
    {
     "name": "stdout",
     "output_type": "stream",
     "text": [
      "77/88: Starting download of Ganglioglioma/a198055d-357f-11eb-b5c8-001a7dda7111.ndpi\n",
      "False\n"
     ]
    },
    {
     "data": {
      "application/json": {
       "ascii": false,
       "bar_format": null,
       "colour": null,
       "elapsed": 0.004997968673706055,
       "initial": 0,
       "n": 0,
       "ncols": null,
       "nrows": null,
       "postfix": null,
       "prefix": "",
       "rate": null,
       "total": 2578610090,
       "unit": "iB",
       "unit_divisor": 1000,
       "unit_scale": true
      },
      "application/vnd.jupyter.widget-view+json": {
       "model_id": "98de817cc74d4b838a6ac8d24583572c",
       "version_major": 2,
       "version_minor": 0
      },
      "text/plain": [
       "  0%|          | 0.00/2.58G [00:00<?, ?iB/s]"
      ]
     },
     "metadata": {},
     "output_type": "display_data"
    },
    {
     "name": "stdout",
     "output_type": "stream",
     "text": [
      "78/88: Starting download of Ganglioglioma/a1982bcd-357f-11eb-84d4-001a7dda7111.ndpi\n",
      "False\n"
     ]
    },
    {
     "data": {
      "application/json": {
       "ascii": false,
       "bar_format": null,
       "colour": null,
       "elapsed": 0.00500035285949707,
       "initial": 0,
       "n": 0,
       "ncols": null,
       "nrows": null,
       "postfix": null,
       "prefix": "",
       "rate": null,
       "total": 1197576175,
       "unit": "iB",
       "unit_divisor": 1000,
       "unit_scale": true
      },
      "application/vnd.jupyter.widget-view+json": {
       "model_id": "d3c3def7dbf644d89b32f0fab9aab8d0",
       "version_major": 2,
       "version_minor": 0
      },
      "text/plain": [
       "  0%|          | 0.00/1.20G [00:00<?, ?iB/s]"
      ]
     },
     "metadata": {},
     "output_type": "display_data"
    },
    {
     "name": "stdout",
     "output_type": "stream",
     "text": [
      "79/88: Starting download of Ganglioglioma/a1982c0b-357f-11eb-93b0-001a7dda7111.ndpi\n",
      "False\n"
     ]
    },
    {
     "data": {
      "application/json": {
       "ascii": false,
       "bar_format": null,
       "colour": null,
       "elapsed": 0.005000591278076172,
       "initial": 0,
       "n": 0,
       "ncols": null,
       "nrows": null,
       "postfix": null,
       "prefix": "",
       "rate": null,
       "total": 2231913463,
       "unit": "iB",
       "unit_divisor": 1000,
       "unit_scale": true
      },
      "application/vnd.jupyter.widget-view+json": {
       "model_id": "fc595eb003534596bdaaa9ece8f9cd10",
       "version_major": 2,
       "version_minor": 0
      },
      "text/plain": [
       "  0%|          | 0.00/2.23G [00:00<?, ?iB/s]"
      ]
     },
     "metadata": {},
     "output_type": "display_data"
    },
    {
     "name": "stdout",
     "output_type": "stream",
     "text": [
      "80/88: Starting download of Ganglioglioma/a1982c17-357f-11eb-b7f9-001a7dda7111.ndpi\n",
      "False\n"
     ]
    },
    {
     "data": {
      "application/json": {
       "ascii": false,
       "bar_format": null,
       "colour": null,
       "elapsed": 0.010001659393310547,
       "initial": 0,
       "n": 0,
       "ncols": null,
       "nrows": null,
       "postfix": null,
       "prefix": "",
       "rate": null,
       "total": 1159991498,
       "unit": "iB",
       "unit_divisor": 1000,
       "unit_scale": true
      },
      "application/vnd.jupyter.widget-view+json": {
       "model_id": "306c9e4ed66c45829655fd5b80f6cf51",
       "version_major": 2,
       "version_minor": 0
      },
      "text/plain": [
       "  0%|          | 0.00/1.16G [00:00<?, ?iB/s]"
      ]
     },
     "metadata": {},
     "output_type": "display_data"
    },
    {
     "name": "stdout",
     "output_type": "stream",
     "text": [
      "81/88: Starting download of Ganglioglioma/a1982c1a-357f-11eb-8bb6-001a7dda7111.ndpi\n",
      "False\n"
     ]
    },
    {
     "data": {
      "application/json": {
       "ascii": false,
       "bar_format": null,
       "colour": null,
       "elapsed": 0.006000041961669922,
       "initial": 0,
       "n": 0,
       "ncols": null,
       "nrows": null,
       "postfix": null,
       "prefix": "",
       "rate": null,
       "total": 683898073,
       "unit": "iB",
       "unit_divisor": 1000,
       "unit_scale": true
      },
      "application/vnd.jupyter.widget-view+json": {
       "model_id": "7ac1ddf69d2244d78df334fbe388acd6",
       "version_major": 2,
       "version_minor": 0
      },
      "text/plain": [
       "  0%|          | 0.00/684M [00:00<?, ?iB/s]"
      ]
     },
     "metadata": {},
     "output_type": "display_data"
    },
    {
     "name": "stdout",
     "output_type": "stream",
     "text": [
      "82/88: Starting download of Ganglioglioma/a1982ca4-357f-11eb-8cd9-001a7dda7111.ndpi\n",
      "False\n"
     ]
    },
    {
     "data": {
      "application/json": {
       "ascii": false,
       "bar_format": null,
       "colour": null,
       "elapsed": 0.005000591278076172,
       "initial": 0,
       "n": 0,
       "ncols": null,
       "nrows": null,
       "postfix": null,
       "prefix": "",
       "rate": null,
       "total": 132745024,
       "unit": "iB",
       "unit_divisor": 1000,
       "unit_scale": true
      },
      "application/vnd.jupyter.widget-view+json": {
       "model_id": "8a43abfbe489489bba56aa49925f334a",
       "version_major": 2,
       "version_minor": 0
      },
      "text/plain": [
       "  0%|          | 0.00/133M [00:00<?, ?iB/s]"
      ]
     },
     "metadata": {},
     "output_type": "display_data"
    },
    {
     "name": "stdout",
     "output_type": "stream",
     "text": [
      "83/88: Starting download of Ganglioglioma/a1982caa-357f-11eb-8f04-001a7dda7111.ndpi\n",
      "False\n"
     ]
    },
    {
     "data": {
      "application/json": {
       "ascii": false,
       "bar_format": null,
       "colour": null,
       "elapsed": 0.005002498626708984,
       "initial": 0,
       "n": 0,
       "ncols": null,
       "nrows": null,
       "postfix": null,
       "prefix": "",
       "rate": null,
       "total": 1563965459,
       "unit": "iB",
       "unit_divisor": 1000,
       "unit_scale": true
      },
      "application/vnd.jupyter.widget-view+json": {
       "model_id": "4a2e00d19f4249749626cc4e04f132c6",
       "version_major": 2,
       "version_minor": 0
      },
      "text/plain": [
       "  0%|          | 0.00/1.56G [00:00<?, ?iB/s]"
      ]
     },
     "metadata": {},
     "output_type": "display_data"
    },
    {
     "name": "stdout",
     "output_type": "stream",
     "text": [
      "84/88: Starting download of Ganglioglioma/a1982ccb-357f-11eb-9df6-001a7dda7111.ndpi\n",
      "False\n"
     ]
    },
    {
     "data": {
      "application/json": {
       "ascii": false,
       "bar_format": null,
       "colour": null,
       "elapsed": 0.0059697628021240234,
       "initial": 0,
       "n": 0,
       "ncols": null,
       "nrows": null,
       "postfix": null,
       "prefix": "",
       "rate": null,
       "total": 866855115,
       "unit": "iB",
       "unit_divisor": 1000,
       "unit_scale": true
      },
      "application/vnd.jupyter.widget-view+json": {
       "model_id": "598bfec0708845a098dacbe041c560e7",
       "version_major": 2,
       "version_minor": 0
      },
      "text/plain": [
       "  0%|          | 0.00/867M [00:00<?, ?iB/s]"
      ]
     },
     "metadata": {},
     "output_type": "display_data"
    },
    {
     "name": "stdout",
     "output_type": "stream",
     "text": [
      "85/88: Starting download of Ganglioglioma/a19852e2-357f-11eb-b4b3-001a7dda7111.ndpi\n",
      "False\n"
     ]
    },
    {
     "data": {
      "application/json": {
       "ascii": false,
       "bar_format": null,
       "colour": null,
       "elapsed": 0.006000518798828125,
       "initial": 0,
       "n": 0,
       "ncols": null,
       "nrows": null,
       "postfix": null,
       "prefix": "",
       "rate": null,
       "total": 3246787877,
       "unit": "iB",
       "unit_divisor": 1000,
       "unit_scale": true
      },
      "application/vnd.jupyter.widget-view+json": {
       "model_id": "5cda04586fb948f78fbdf910c2a31bc5",
       "version_major": 2,
       "version_minor": 0
      },
      "text/plain": [
       "  0%|          | 0.00/3.25G [00:00<?, ?iB/s]"
      ]
     },
     "metadata": {},
     "output_type": "display_data"
    },
    {
     "name": "stdout",
     "output_type": "stream",
     "text": [
      "86/88: Starting download of Ganglioglioma/a19852e5-357f-11eb-93db-001a7dda7111.ndpi\n",
      "False\n"
     ]
    },
    {
     "data": {
      "application/json": {
       "ascii": false,
       "bar_format": null,
       "colour": null,
       "elapsed": 0.005001068115234375,
       "initial": 0,
       "n": 0,
       "ncols": null,
       "nrows": null,
       "postfix": null,
       "prefix": "",
       "rate": null,
       "total": 2568630021,
       "unit": "iB",
       "unit_divisor": 1000,
       "unit_scale": true
      },
      "application/vnd.jupyter.widget-view+json": {
       "model_id": "b9aa70acebcc48b0b2ba62d686065b17",
       "version_major": 2,
       "version_minor": 0
      },
      "text/plain": [
       "  0%|          | 0.00/2.57G [00:00<?, ?iB/s]"
      ]
     },
     "metadata": {},
     "output_type": "display_data"
    },
    {
     "name": "stdout",
     "output_type": "stream",
     "text": [
      "87/88: Starting download of Ganglioglioma/a19852f4-357f-11eb-b663-001a7dda7111.ndpi\n",
      "False\n"
     ]
    },
    {
     "data": {
      "application/json": {
       "ascii": false,
       "bar_format": null,
       "colour": null,
       "elapsed": 0.005000114440917969,
       "initial": 0,
       "n": 0,
       "ncols": null,
       "nrows": null,
       "postfix": null,
       "prefix": "",
       "rate": null,
       "total": 557317383,
       "unit": "iB",
       "unit_divisor": 1000,
       "unit_scale": true
      },
      "application/vnd.jupyter.widget-view+json": {
       "model_id": "e8e714948efb420e90e1cec160123c67",
       "version_major": 2,
       "version_minor": 0
      },
      "text/plain": [
       "  0%|          | 0.00/557M [00:00<?, ?iB/s]"
      ]
     },
     "metadata": {},
     "output_type": "display_data"
    },
    {
     "name": "stdout",
     "output_type": "stream",
     "text": [
      "88/88: Starting download of Ganglioglioma/a19852fa-357f-11eb-ae02-001a7dda7111.ndpi\n",
      "False\n"
     ]
    },
    {
     "data": {
      "application/json": {
       "ascii": false,
       "bar_format": null,
       "colour": null,
       "elapsed": 0.0050008296966552734,
       "initial": 0,
       "n": 0,
       "ncols": null,
       "nrows": null,
       "postfix": null,
       "prefix": "",
       "rate": null,
       "total": 1048369002,
       "unit": "iB",
       "unit_divisor": 1000,
       "unit_scale": true
      },
      "application/vnd.jupyter.widget-view+json": {
       "model_id": "0973bdefb23e44739eda14cfa7cdeaaa",
       "version_major": 2,
       "version_minor": 0
      },
      "text/plain": [
       "  0%|          | 0.00/1.05G [00:00<?, ?iB/s]"
      ]
     },
     "metadata": {},
     "output_type": "display_data"
    },
    {
     "name": "stdout",
     "output_type": "stream",
     "text": [
      "16/20: Starting download of Germinoma/a196f3c9-357f-11eb-96b9-001a7dda7111.ndpi\n",
      "False\n"
     ]
    },
    {
     "data": {
      "application/json": {
       "ascii": false,
       "bar_format": null,
       "colour": null,
       "elapsed": 0.011000633239746094,
       "initial": 0,
       "n": 0,
       "ncols": null,
       "nrows": null,
       "postfix": null,
       "prefix": "",
       "rate": null,
       "total": 164200330,
       "unit": "iB",
       "unit_divisor": 1000,
       "unit_scale": true
      },
      "application/vnd.jupyter.widget-view+json": {
       "model_id": "c19154bab0ea408ab4c19f82f981c685",
       "version_major": 2,
       "version_minor": 0
      },
      "text/plain": [
       "  0%|          | 0.00/164M [00:00<?, ?iB/s]"
      ]
     },
     "metadata": {},
     "output_type": "display_data"
    },
    {
     "name": "stdout",
     "output_type": "stream",
     "text": [
      "17/20: Starting download of Germinoma/a19741f1-357f-11eb-ac9f-001a7dda7111.ndpi\n",
      "False\n"
     ]
    },
    {
     "data": {
      "application/json": {
       "ascii": false,
       "bar_format": null,
       "colour": null,
       "elapsed": 0.005002498626708984,
       "initial": 0,
       "n": 0,
       "ncols": null,
       "nrows": null,
       "postfix": null,
       "prefix": "",
       "rate": null,
       "total": 33204470,
       "unit": "iB",
       "unit_divisor": 1000,
       "unit_scale": true
      },
      "application/vnd.jupyter.widget-view+json": {
       "model_id": "918a2f995b38406e9d18732ff9ef3223",
       "version_major": 2,
       "version_minor": 0
      },
      "text/plain": [
       "  0%|          | 0.00/33.2M [00:00<?, ?iB/s]"
      ]
     },
     "metadata": {},
     "output_type": "display_data"
    },
    {
     "name": "stdout",
     "output_type": "stream",
     "text": [
      "18/20: Starting download of Germinoma/a197689b-357f-11eb-8fde-001a7dda7111.ndpi\n",
      "False\n"
     ]
    },
    {
     "data": {
      "application/json": {
       "ascii": false,
       "bar_format": null,
       "colour": null,
       "elapsed": 0.00500035285949707,
       "initial": 0,
       "n": 0,
       "ncols": null,
       "nrows": null,
       "postfix": null,
       "prefix": "",
       "rate": null,
       "total": 376648299,
       "unit": "iB",
       "unit_divisor": 1000,
       "unit_scale": true
      },
      "application/vnd.jupyter.widget-view+json": {
       "model_id": "50718f9fed8e43c1b65723c944a24715",
       "version_major": 2,
       "version_minor": 0
      },
      "text/plain": [
       "  0%|          | 0.00/377M [00:00<?, ?iB/s]"
      ]
     },
     "metadata": {},
     "output_type": "display_data"
    },
    {
     "name": "stdout",
     "output_type": "stream",
     "text": [
      "19/20: Starting download of Germinoma/a1978f8a-357f-11eb-ab8d-001a7dda7111.ndpi\n",
      "False\n"
     ]
    },
    {
     "data": {
      "application/json": {
       "ascii": false,
       "bar_format": null,
       "colour": null,
       "elapsed": 0.003997087478637695,
       "initial": 0,
       "n": 0,
       "ncols": null,
       "nrows": null,
       "postfix": null,
       "prefix": "",
       "rate": null,
       "total": 309631105,
       "unit": "iB",
       "unit_divisor": 1000,
       "unit_scale": true
      },
      "application/vnd.jupyter.widget-view+json": {
       "model_id": "1f223211e1c645a1a6a74518f5a3c898",
       "version_major": 2,
       "version_minor": 0
      },
      "text/plain": [
       "  0%|          | 0.00/310M [00:00<?, ?iB/s]"
      ]
     },
     "metadata": {},
     "output_type": "display_data"
    },
    {
     "name": "stdout",
     "output_type": "stream",
     "text": [
      "20/20: Starting download of Germinoma/a19805c4-357f-11eb-b846-001a7dda7111.ndpi\n",
      "False\n"
     ]
    },
    {
     "data": {
      "application/json": {
       "ascii": false,
       "bar_format": null,
       "colour": null,
       "elapsed": 0.0049991607666015625,
       "initial": 0,
       "n": 0,
       "ncols": null,
       "nrows": null,
       "postfix": null,
       "prefix": "",
       "rate": null,
       "total": 308831264,
       "unit": "iB",
       "unit_divisor": 1000,
       "unit_scale": true
      },
      "application/vnd.jupyter.widget-view+json": {
       "model_id": "3441cb8ab794430c8fa7ca60d5f14aca",
       "version_major": 2,
       "version_minor": 0
      },
      "text/plain": [
       "  0%|          | 0.00/309M [00:00<?, ?iB/s]"
      ]
     },
     "metadata": {},
     "output_type": "display_data"
    },
    {
     "name": "stdout",
     "output_type": "stream",
     "text": [
      "16/21: Starting download of Giant cell glioblastoma/a1960902-357f-11eb-a5b0-001a7dda7111.ndpi\n",
      "False\n"
     ]
    },
    {
     "data": {
      "application/json": {
       "ascii": false,
       "bar_format": null,
       "colour": null,
       "elapsed": 0.00500178337097168,
       "initial": 0,
       "n": 0,
       "ncols": null,
       "nrows": null,
       "postfix": null,
       "prefix": "",
       "rate": null,
       "total": 2265249797,
       "unit": "iB",
       "unit_divisor": 1000,
       "unit_scale": true
      },
      "application/vnd.jupyter.widget-view+json": {
       "model_id": "3aeb825fe006425fba6f8f26a11bc633",
       "version_major": 2,
       "version_minor": 0
      },
      "text/plain": [
       "  0%|          | 0.00/2.27G [00:00<?, ?iB/s]"
      ]
     },
     "metadata": {},
     "output_type": "display_data"
    },
    {
     "name": "stdout",
     "output_type": "stream",
     "text": [
      "Trying again with mag 4\n",
      "Trying again with mag 3\n",
      "17/21: Starting download of Giant cell glioblastoma/a198053a-357f-11eb-b8d3-001a7dda7111.ndpi\n",
      "False\n"
     ]
    },
    {
     "data": {
      "application/json": {
       "ascii": false,
       "bar_format": null,
       "colour": null,
       "elapsed": 0.00500035285949707,
       "initial": 0,
       "n": 0,
       "ncols": null,
       "nrows": null,
       "postfix": null,
       "prefix": "",
       "rate": null,
       "total": 446602644,
       "unit": "iB",
       "unit_divisor": 1000,
       "unit_scale": true
      },
      "application/vnd.jupyter.widget-view+json": {
       "model_id": "e855d698efe74c0a9ef47bcd15dde642",
       "version_major": 2,
       "version_minor": 0
      },
      "text/plain": [
       "  0%|          | 0.00/447M [00:00<?, ?iB/s]"
      ]
     },
     "metadata": {},
     "output_type": "display_data"
    },
    {
     "name": "stdout",
     "output_type": "stream",
     "text": [
      "18/21: Starting download of Giant cell glioblastoma/a1980540-357f-11eb-ac87-001a7dda7111.ndpi\n",
      "False\n"
     ]
    },
    {
     "data": {
      "application/json": {
       "ascii": false,
       "bar_format": null,
       "colour": null,
       "elapsed": 0.005000114440917969,
       "initial": 0,
       "n": 0,
       "ncols": null,
       "nrows": null,
       "postfix": null,
       "prefix": "",
       "rate": null,
       "total": 1063783763,
       "unit": "iB",
       "unit_divisor": 1000,
       "unit_scale": true
      },
      "application/vnd.jupyter.widget-view+json": {
       "model_id": "fcac504fd7084afdb4d835ac8a3ab681",
       "version_major": 2,
       "version_minor": 0
      },
      "text/plain": [
       "  0%|          | 0.00/1.06G [00:00<?, ?iB/s]"
      ]
     },
     "metadata": {},
     "output_type": "display_data"
    },
    {
     "name": "stdout",
     "output_type": "stream",
     "text": [
      "19/21: Starting download of Giant cell glioblastoma/a1982bf4-357f-11eb-ada7-001a7dda7111.ndpi\n",
      "False\n"
     ]
    },
    {
     "data": {
      "application/json": {
       "ascii": false,
       "bar_format": null,
       "colour": null,
       "elapsed": 0.004998922348022461,
       "initial": 0,
       "n": 0,
       "ncols": null,
       "nrows": null,
       "postfix": null,
       "prefix": "",
       "rate": null,
       "total": 1345865223,
       "unit": "iB",
       "unit_divisor": 1000,
       "unit_scale": true
      },
      "application/vnd.jupyter.widget-view+json": {
       "model_id": "c7368b356fd14e94bc60e66ea6a22b65",
       "version_major": 2,
       "version_minor": 0
      },
      "text/plain": [
       "  0%|          | 0.00/1.35G [00:00<?, ?iB/s]"
      ]
     },
     "metadata": {},
     "output_type": "display_data"
    },
    {
     "name": "stdout",
     "output_type": "stream",
     "text": [
      "20/21: Starting download of Giant cell glioblastoma/a1982bfd-357f-11eb-a2b5-001a7dda7111.ndpi\n",
      "False\n"
     ]
    },
    {
     "data": {
      "application/json": {
       "ascii": false,
       "bar_format": null,
       "colour": null,
       "elapsed": 0.006001472473144531,
       "initial": 0,
       "n": 0,
       "ncols": null,
       "nrows": null,
       "postfix": null,
       "prefix": "",
       "rate": null,
       "total": 2385226283,
       "unit": "iB",
       "unit_divisor": 1000,
       "unit_scale": true
      },
      "application/vnd.jupyter.widget-view+json": {
       "model_id": "b8b0799cad794fd3ac77205ec0ee1fa1",
       "version_major": 2,
       "version_minor": 0
      },
      "text/plain": [
       "  0%|          | 0.00/2.39G [00:00<?, ?iB/s]"
      ]
     },
     "metadata": {},
     "output_type": "display_data"
    },
    {
     "name": "stdout",
     "output_type": "stream",
     "text": [
      "21/21: Starting download of Giant cell glioblastoma/a1982c03-357f-11eb-a1c1-001a7dda7111.ndpi\n",
      "False\n"
     ]
    },
    {
     "data": {
      "application/json": {
       "ascii": false,
       "bar_format": null,
       "colour": null,
       "elapsed": 0.005971670150756836,
       "initial": 0,
       "n": 0,
       "ncols": null,
       "nrows": null,
       "postfix": null,
       "prefix": "",
       "rate": null,
       "total": 697510809,
       "unit": "iB",
       "unit_divisor": 1000,
       "unit_scale": true
      },
      "application/vnd.jupyter.widget-view+json": {
       "model_id": "5a445fc43fbe49b0be4e527722ac59a6",
       "version_major": 2,
       "version_minor": 0
      },
      "text/plain": [
       "  0%|          | 0.00/698M [00:00<?, ?iB/s]"
      ]
     },
     "metadata": {},
     "output_type": "display_data"
    },
    {
     "name": "stdout",
     "output_type": "stream",
     "text": [
      "2/474: Starting download of Glioblastoma, IDH-wildtype/a194f796-357f-11eb-b46b-001a7dda7111.ndpi\n",
      "False\n"
     ]
    },
    {
     "data": {
      "application/json": {
       "ascii": false,
       "bar_format": null,
       "colour": null,
       "elapsed": 0.013968944549560547,
       "initial": 0,
       "n": 0,
       "ncols": null,
       "nrows": null,
       "postfix": null,
       "prefix": "",
       "rate": null,
       "total": 1571646959,
       "unit": "iB",
       "unit_divisor": 1000,
       "unit_scale": true
      },
      "application/vnd.jupyter.widget-view+json": {
       "model_id": "7ca85a02287047a8aa50b0dc46089b56",
       "version_major": 2,
       "version_minor": 0
      },
      "text/plain": [
       "  0%|          | 0.00/1.57G [00:00<?, ?iB/s]"
      ]
     },
     "metadata": {},
     "output_type": "display_data"
    },
    {
     "name": "stdout",
     "output_type": "stream",
     "text": [
      "3/474: Starting download of Glioblastoma, IDH-wildtype/a1951ea1-357f-11eb-9e7b-001a7dda7111.ndpi\n",
      "False\n"
     ]
    },
    {
     "data": {
      "application/json": {
       "ascii": false,
       "bar_format": null,
       "colour": null,
       "elapsed": 0.0050029754638671875,
       "initial": 0,
       "n": 0,
       "ncols": null,
       "nrows": null,
       "postfix": null,
       "prefix": "",
       "rate": null,
       "total": 3311060324,
       "unit": "iB",
       "unit_divisor": 1000,
       "unit_scale": true
      },
      "application/vnd.jupyter.widget-view+json": {
       "model_id": "593de2ca0d524db2bc5f6e661a17adf9",
       "version_major": 2,
       "version_minor": 0
      },
      "text/plain": [
       "  0%|          | 0.00/3.31G [00:00<?, ?iB/s]"
      ]
     },
     "metadata": {},
     "output_type": "display_data"
    },
    {
     "name": "stdout",
     "output_type": "stream",
     "text": [
      "4/474: Starting download of Glioblastoma, IDH-wildtype/a1951ea2-357f-11eb-ba28-001a7dda7111.ndpi\n",
      "False\n"
     ]
    },
    {
     "data": {
      "application/json": {
       "ascii": false,
       "bar_format": null,
       "colour": null,
       "elapsed": 0.004999399185180664,
       "initial": 0,
       "n": 0,
       "ncols": null,
       "nrows": null,
       "postfix": null,
       "prefix": "",
       "rate": null,
       "total": 1312475639,
       "unit": "iB",
       "unit_divisor": 1000,
       "unit_scale": true
      },
      "application/vnd.jupyter.widget-view+json": {
       "model_id": "42384b304aad47079ebfdbdf6fb77fa4",
       "version_major": 2,
       "version_minor": 0
      },
      "text/plain": [
       "  0%|          | 0.00/1.31G [00:00<?, ?iB/s]"
      ]
     },
     "metadata": {},
     "output_type": "display_data"
    },
    {
     "name": "stdout",
     "output_type": "stream",
     "text": [
      "5/474: Starting download of Glioblastoma, IDH-wildtype/a1951ea4-357f-11eb-a591-001a7dda7111.ndpi\n",
      "False\n"
     ]
    },
    {
     "data": {
      "application/json": {
       "ascii": false,
       "bar_format": null,
       "colour": null,
       "elapsed": 0.005972623825073242,
       "initial": 0,
       "n": 0,
       "ncols": null,
       "nrows": null,
       "postfix": null,
       "prefix": "",
       "rate": null,
       "total": 715234525,
       "unit": "iB",
       "unit_divisor": 1000,
       "unit_scale": true
      },
      "application/vnd.jupyter.widget-view+json": {
       "model_id": "f5c081750a5b456c8f54e35f75dd890a",
       "version_major": 2,
       "version_minor": 0
      },
      "text/plain": [
       "  0%|          | 0.00/715M [00:00<?, ?iB/s]"
      ]
     },
     "metadata": {},
     "output_type": "display_data"
    },
    {
     "name": "stdout",
     "output_type": "stream",
     "text": [
      "6/474: Starting download of Glioblastoma, IDH-wildtype/a1951eac-357f-11eb-9493-001a7dda7111.ndpi\n",
      "False\n"
     ]
    },
    {
     "data": {
      "application/json": {
       "ascii": false,
       "bar_format": null,
       "colour": null,
       "elapsed": 0.00500035285949707,
       "initial": 0,
       "n": 0,
       "ncols": null,
       "nrows": null,
       "postfix": null,
       "prefix": "",
       "rate": null,
       "total": 1366526870,
       "unit": "iB",
       "unit_divisor": 1000,
       "unit_scale": true
      },
      "application/vnd.jupyter.widget-view+json": {
       "model_id": "5d57b311fadb4b6184fdaa191b8534dd",
       "version_major": 2,
       "version_minor": 0
      },
      "text/plain": [
       "  0%|          | 0.00/1.37G [00:00<?, ?iB/s]"
      ]
     },
     "metadata": {},
     "output_type": "display_data"
    },
    {
     "name": "stdout",
     "output_type": "stream",
     "text": [
      "7/474: Starting download of Glioblastoma, IDH-wildtype/a1951eb1-357f-11eb-815d-001a7dda7111.ndpi\n",
      "False\n"
     ]
    },
    {
     "data": {
      "application/json": {
       "ascii": false,
       "bar_format": null,
       "colour": null,
       "elapsed": 0.004999637603759766,
       "initial": 0,
       "n": 0,
       "ncols": null,
       "nrows": null,
       "postfix": null,
       "prefix": "",
       "rate": null,
       "total": 652967366,
       "unit": "iB",
       "unit_divisor": 1000,
       "unit_scale": true
      },
      "application/vnd.jupyter.widget-view+json": {
       "model_id": "593b5b6c388f4dc59c24037250adb25c",
       "version_major": 2,
       "version_minor": 0
      },
      "text/plain": [
       "  0%|          | 0.00/653M [00:00<?, ?iB/s]"
      ]
     },
     "metadata": {},
     "output_type": "display_data"
    },
    {
     "name": "stdout",
     "output_type": "stream",
     "text": [
      "8/474: Starting download of Glioblastoma, IDH-wildtype/a1951eb2-357f-11eb-88a6-001a7dda7111.ndpi\n",
      "False\n"
     ]
    },
    {
     "data": {
      "application/json": {
       "ascii": false,
       "bar_format": null,
       "colour": null,
       "elapsed": 0.004998445510864258,
       "initial": 0,
       "n": 0,
       "ncols": null,
       "nrows": null,
       "postfix": null,
       "prefix": "",
       "rate": null,
       "total": 2371748133,
       "unit": "iB",
       "unit_divisor": 1000,
       "unit_scale": true
      },
      "application/vnd.jupyter.widget-view+json": {
       "model_id": "16710211e58146b5af22416b3301cd02",
       "version_major": 2,
       "version_minor": 0
      },
      "text/plain": [
       "  0%|          | 0.00/2.37G [00:00<?, ?iB/s]"
      ]
     },
     "metadata": {},
     "output_type": "display_data"
    },
    {
     "name": "stdout",
     "output_type": "stream",
     "text": [
      "9/474: Starting download of Glioblastoma, IDH-wildtype/a1951eb5-357f-11eb-98dd-001a7dda7111.ndpi\n",
      "False\n"
     ]
    },
    {
     "data": {
      "application/json": {
       "ascii": false,
       "bar_format": null,
       "colour": null,
       "elapsed": 0.005506992340087891,
       "initial": 0,
       "n": 0,
       "ncols": null,
       "nrows": null,
       "postfix": null,
       "prefix": "",
       "rate": null,
       "total": 89401228,
       "unit": "iB",
       "unit_divisor": 1000,
       "unit_scale": true
      },
      "application/vnd.jupyter.widget-view+json": {
       "model_id": "8dba2500a4c6404ba36bce7e76a932d7",
       "version_major": 2,
       "version_minor": 0
      },
      "text/plain": [
       "  0%|          | 0.00/89.4M [00:00<?, ?iB/s]"
      ]
     },
     "metadata": {},
     "output_type": "display_data"
    },
    {
     "name": "stdout",
     "output_type": "stream",
     "text": [
      "10/474: Starting download of Glioblastoma, IDH-wildtype/a1951eb7-357f-11eb-a05f-001a7dda7111.ndpi\n",
      "False\n"
     ]
    },
    {
     "data": {
      "application/json": {
       "ascii": false,
       "bar_format": null,
       "colour": null,
       "elapsed": 0.00500035285949707,
       "initial": 0,
       "n": 0,
       "ncols": null,
       "nrows": null,
       "postfix": null,
       "prefix": "",
       "rate": null,
       "total": 2000704149,
       "unit": "iB",
       "unit_divisor": 1000,
       "unit_scale": true
      },
      "application/vnd.jupyter.widget-view+json": {
       "model_id": "516a2a2f88434c7dbdf71815ed4852e1",
       "version_major": 2,
       "version_minor": 0
      },
      "text/plain": [
       "  0%|          | 0.00/2.00G [00:00<?, ?iB/s]"
      ]
     },
     "metadata": {},
     "output_type": "display_data"
    },
    {
     "name": "stdout",
     "output_type": "stream",
     "text": [
      "11/474: Starting download of Glioblastoma, IDH-wildtype/a1951ebf-357f-11eb-bccd-001a7dda7111.ndpi\n",
      "False\n"
     ]
    },
    {
     "data": {
      "application/json": {
       "ascii": false,
       "bar_format": null,
       "colour": null,
       "elapsed": 0.010999441146850586,
       "initial": 0,
       "n": 0,
       "ncols": null,
       "nrows": null,
       "postfix": null,
       "prefix": "",
       "rate": null,
       "total": 1838106526,
       "unit": "iB",
       "unit_divisor": 1000,
       "unit_scale": true
      },
      "application/vnd.jupyter.widget-view+json": {
       "model_id": "60436d16df43469e9a3ff992bb4071d6",
       "version_major": 2,
       "version_minor": 0
      },
      "text/plain": [
       "  0%|          | 0.00/1.84G [00:00<?, ?iB/s]"
      ]
     },
     "metadata": {},
     "output_type": "display_data"
    },
    {
     "name": "stdout",
     "output_type": "stream",
     "text": [
      "12/474: Starting download of Glioblastoma, IDH-wildtype/a1951ec6-357f-11eb-8633-001a7dda7111.ndpi\n",
      "False\n"
     ]
    },
    {
     "data": {
      "application/json": {
       "ascii": false,
       "bar_format": null,
       "colour": null,
       "elapsed": 0.004999637603759766,
       "initial": 0,
       "n": 0,
       "ncols": null,
       "nrows": null,
       "postfix": null,
       "prefix": "",
       "rate": null,
       "total": 2448903027,
       "unit": "iB",
       "unit_divisor": 1000,
       "unit_scale": true
      },
      "application/vnd.jupyter.widget-view+json": {
       "model_id": "c210ece2a2af4aeda0b47f1919729b16",
       "version_major": 2,
       "version_minor": 0
      },
      "text/plain": [
       "  0%|          | 0.00/2.45G [00:00<?, ?iB/s]"
      ]
     },
     "metadata": {},
     "output_type": "display_data"
    },
    {
     "name": "stdout",
     "output_type": "stream",
     "text": [
      "13/474: Starting download of Glioblastoma, IDH-wildtype/a1951ecb-357f-11eb-bea5-001a7dda7111.ndpi\n",
      "False\n"
     ]
    },
    {
     "data": {
      "application/json": {
       "ascii": false,
       "bar_format": null,
       "colour": null,
       "elapsed": 0.00500178337097168,
       "initial": 0,
       "n": 0,
       "ncols": null,
       "nrows": null,
       "postfix": null,
       "prefix": "",
       "rate": null,
       "total": 168279937,
       "unit": "iB",
       "unit_divisor": 1000,
       "unit_scale": true
      },
      "application/vnd.jupyter.widget-view+json": {
       "model_id": "ce89d74070e940e0b7bb6dd642810f28",
       "version_major": 2,
       "version_minor": 0
      },
      "text/plain": [
       "  0%|          | 0.00/168M [00:00<?, ?iB/s]"
      ]
     },
     "metadata": {},
     "output_type": "display_data"
    },
    {
     "name": "stdout",
     "output_type": "stream",
     "text": [
      "14/474: Starting download of Glioblastoma, IDH-wildtype/a1951ecc-357f-11eb-bef2-001a7dda7111.ndpi\n",
      "False\n"
     ]
    },
    {
     "data": {
      "application/json": {
       "ascii": false,
       "bar_format": null,
       "colour": null,
       "elapsed": 0.0049970149993896484,
       "initial": 0,
       "n": 0,
       "ncols": null,
       "nrows": null,
       "postfix": null,
       "prefix": "",
       "rate": null,
       "total": 132198901,
       "unit": "iB",
       "unit_divisor": 1000,
       "unit_scale": true
      },
      "application/vnd.jupyter.widget-view+json": {
       "model_id": "819893b8afb048db8a0553beaeb73e7c",
       "version_major": 2,
       "version_minor": 0
      },
      "text/plain": [
       "  0%|          | 0.00/132M [00:00<?, ?iB/s]"
      ]
     },
     "metadata": {},
     "output_type": "display_data"
    },
    {
     "name": "stdout",
     "output_type": "stream",
     "text": [
      "15/474: Starting download of Glioblastoma, IDH-wildtype/a1951ede-357f-11eb-9766-001a7dda7111.ndpi\n",
      "False\n"
     ]
    },
    {
     "data": {
      "application/json": {
       "ascii": false,
       "bar_format": null,
       "colour": null,
       "elapsed": 0.0050046443939208984,
       "initial": 0,
       "n": 0,
       "ncols": null,
       "nrows": null,
       "postfix": null,
       "prefix": "",
       "rate": null,
       "total": 1200437269,
       "unit": "iB",
       "unit_divisor": 1000,
       "unit_scale": true
      },
      "application/vnd.jupyter.widget-view+json": {
       "model_id": "e71c5ff5aa204e0cb979d5c95b88e2fb",
       "version_major": 2,
       "version_minor": 0
      },
      "text/plain": [
       "  0%|          | 0.00/1.20G [00:00<?, ?iB/s]"
      ]
     },
     "metadata": {},
     "output_type": "display_data"
    },
    {
     "name": "stdout",
     "output_type": "stream",
     "text": [
      "16/474: Starting download of Glioblastoma, IDH-wildtype/a1951ee4-357f-11eb-9d0b-001a7dda7111.ndpi\n",
      "False\n"
     ]
    },
    {
     "data": {
      "application/json": {
       "ascii": false,
       "bar_format": null,
       "colour": null,
       "elapsed": 0.004997730255126953,
       "initial": 0,
       "n": 0,
       "ncols": null,
       "nrows": null,
       "postfix": null,
       "prefix": "",
       "rate": null,
       "total": 829188065,
       "unit": "iB",
       "unit_divisor": 1000,
       "unit_scale": true
      },
      "application/vnd.jupyter.widget-view+json": {
       "model_id": "20ad3839576743eeaf325584757f9455",
       "version_major": 2,
       "version_minor": 0
      },
      "text/plain": [
       "  0%|          | 0.00/829M [00:00<?, ?iB/s]"
      ]
     },
     "metadata": {},
     "output_type": "display_data"
    }
   ],
   "source": [
    "total_downloads = 0\n",
    "\n",
    "# The base url we will use to download the files\n",
    "api_base_url = 'https://data-proxy.ebrains.eu/api/v1/datasets/8fc108ab-e2b4-406f-8999-60269dc1f994/'\n",
    "\n",
    "# Iterate over each \"object\" in the dataset, which are the files\n",
    "for obj in data['objects']:\n",
    "\tname = obj['name'].replace('v1.0/', '')\n",
    "\tname = name.replace('Embryonal tumour with multilayered rosette, C19MC-altered', 'Embryonal tumour with multilayered rosettes, C19MC-altered')\n",
    "\t\n",
    "\tif name == 'annotation.csv':\n",
    "\t\tcontinue\n",
    "\t\n",
    "\t# Get the label of the current object (i.e. \"Embryonal carcinoma\")\n",
    "\t# and the file (i.e. \"a1980534-357f-11eb-a65a-001a7dda7111.ndpi\")\n",
    "\tlabel, file = name.split('/')\n",
    "\n",
    "\t# Create a folder path for the current label if it doesn't exist yet\n",
    "\tdata_folder_path = os.path.join(folder_path, label)\n",
    "\tif not os.path.exists(data_folder_path):\n",
    "\t\tos.makedirs(data_folder_path)\n",
    "\n",
    "\tfile_path = os.path.join(data_folder_path, file)\n",
    "\tpng_path = file_path.replace('.ndpi', '.png')\n",
    "\n",
    "\t# Skip the current object if the label is not present in diagnosis_counts\n",
    "\tif not label in diagnosis_counts:\n",
    "\t\tcontinue\n",
    "\n",
    "\t# Check if the PNG file already exists, otherwise start the download\n",
    "\tif not os.path.exists(png_path):\n",
    "\t\tn_files = len(glob.glob(os.path.join(data_folder_path, '*.png')))\n",
    "\t\tprint(f'{n_files+1}/{diagnosis_counts[label]}: Starting download of', name)\n",
    "\t\tprint(os.path.exists(file_path))\n",
    "\n",
    "\t\t# If the file already exists, it means the conversation to PNG failed, so we skip\n",
    "\t\tif not os.path.exists(file_path):\n",
    "\t\t\t# Try to download. If it success, we try to convert to PNG.\n",
    "\t\t\tif download(api_base_url + 'v1.0/' + name, file_path, header):\n",
    "\t\t\t\ttotal_downloads += 1\n",
    "\t\t\t\ttry:\n",
    "\t\t\t\t\tsave_image(data_folder_path, file)\n",
    "\t\t\t\t\tos.remove(file_path)\n",
    "\t\t\t\texcept:\n",
    "\t\t\t\t\tprint('Failed to convert', file_path)\n",
    "\n",
    "print('Finished downloading', total_downloads, 'files')"
   ]
  }
 ],
 "metadata": {
  "kernelspec": {
   "display_name": "ai",
   "language": "python",
   "name": "python3"
  },
  "language_info": {
   "codemirror_mode": {
    "name": "ipython",
    "version": 3
   },
   "file_extension": ".py",
   "mimetype": "text/x-python",
   "name": "python",
   "nbconvert_exporter": "python",
   "pygments_lexer": "ipython3",
   "version": "3.8.13"
  },
  "orig_nbformat": 4
 },
 "nbformat": 4,
 "nbformat_minor": 2
}
