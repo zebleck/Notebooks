{
 "cells": [
  {
   "cell_type": "code",
   "execution_count": 7,
   "metadata": {},
   "outputs": [],
   "source": [
    "import pandas as pd\n",
    "import matplotlib.pyplot as plt\n",
    "import seaborn as sns\n",
    "import os\n",
    "import glob\n",
    "import requests\n",
    "import json\n",
    "from tqdm.notebook import tqdm\n",
    "import requests\n",
    "import shutil\n",
    "\n",
    "with os.add_dll_directory('C://openslide-win64/bin'):\n",
    "\timport openslide\n",
    "\n",
    "# Read the CSV file\n",
    "data_file = 'annotation.csv'\n",
    "df = pd.read_csv(data_file)\n",
    "\n",
    "diagnosis_counts = df['diagnosis'].value_counts()\n",
    "\n",
    "diagnosis_labels = df['diagnosis'].fillna('nan').unique()"
   ]
  },
  {
   "cell_type": "code",
   "execution_count": 12,
   "metadata": {},
   "outputs": [],
   "source": [
    "def get_image_with_min_size(file_path, min_size=2048):\n",
    "\n",
    "\tndpi_file = openslide.OpenSlide(file_path)\n",
    "\tndpi_metadata = dict(ndpi_file.properties)\n",
    "\n",
    "\t# Get the number of magnification levels in the NDPI file\n",
    "\tmag_level_count = int(ndpi_metadata['openslide.level-count']) - 1\n",
    "\ttarget_mag_level = mag_level_count\n",
    "\twhile target_mag_level >= 0:\n",
    "\t\t# Get the width and height of the requested magnification level\n",
    "\t\ttarget_ndpi_width = int(ndpi_metadata[f'openslide.level[{target_mag_level}].width'])\n",
    "\t\ttarget_ndpi_height = int(ndpi_metadata[f'openslide.level[{target_mag_level}].height'])\n",
    "\t\tif target_ndpi_width >= min_size and target_ndpi_height >= min_size:\n",
    "\t\t\tbreak\n",
    "\t\ttarget_mag_level -= 1\n",
    "\tif target_mag_level < 0:\n",
    "\t\tprint('Error: NDPI file is too small')\n",
    "\t\treturn None, ndpi_metadata\n",
    "\n",
    "\ttarget_ndpi_width = int(ndpi_metadata[f'openslide.level[{target_mag_level}].width'])\n",
    "\ttarget_ndpi_height = int(ndpi_metadata[f'openslide.level[{target_mag_level}].height'])\n",
    "\n",
    "\t# Sometimes there are error reading the JPEG files so we try at different mag levels and downsample\n",
    "\n",
    "\tmag_level = target_mag_level\n",
    "\twhile mag_level >= 0:\n",
    "\t\t# Open the NDPI file using OpenSlide\n",
    "\t\tif mag_level < target_mag_level:\n",
    "\t\t\tndpi_file = openslide.OpenSlide(file_path)\n",
    "\n",
    "\t\t# Get the width and height of the requested magnification level\n",
    "\t\tndpi_width = int(ndpi_metadata[f'openslide.level[{mag_level}].width'])\n",
    "\t\tndpi_height = int(ndpi_metadata[f'openslide.level[{mag_level}].height'])\n",
    "\t\ttry:\n",
    "            # Load the image at the requested magnification level\n",
    "\t\t\tndpi_image = ndpi_file.read_region((0, 0), mag_level, (ndpi_width, ndpi_height))\n",
    "\n",
    "            # Convert the image to RGB format\n",
    "\t\t\tndpi_image = ndpi_image.convert('RGB')\n",
    "\t\t\tif mag_level < target_mag_level:\n",
    "\t\t\t\tndpi_image = ndpi_image.resize((target_ndpi_width, target_ndpi_height))\n",
    "\n",
    "            # Close the NDPI file and return the image\n",
    "\t\t\tndpi_file.close()\n",
    "\t\t\treturn ndpi_image, ndpi_metadata\n",
    "\t\texcept:\n",
    "\t\t\tprint('Trying again with mag', mag_level - 1)\n",
    "\t\t\tmag_level -= 1\n",
    "\t\t\tndpi_file.close()\n",
    "\t\n",
    "\tprint(f'Error: Could not load image from {file_path} at any magnification level')\n",
    "\n",
    "def save_image(processed_path, ndpi_file_name):\n",
    "\tfile_path = os.path.join(processed_path, ndpi_file_name)\n",
    "\toutput_image_path = file_path[:-5] + '.png'\n",
    "\n",
    "\tndpi_image, metadata = get_image_with_min_size(file_path)\n",
    "\n",
    "\t# Save the image\n",
    "\ttry:\n",
    "\t\tndpi_image.save(output_image_path)\n",
    "\texcept:\n",
    "\t\tprint(f'Didn\\'t save {output_image_path}')\n",
    "\n",
    "    # Save the metadata as a JSON file\n",
    "\tmetadata_path = os.path.join(processed_path, 'metadata')\n",
    "\tif not os.path.exists(metadata_path):\n",
    "\t\tos.mkdir(metadata_path)\n",
    "\twith open(os.path.join(os.path.join(processed_path, 'metadata'), ndpi_file_name[:-5] + '.json'), 'w') as metadata_file:\n",
    "\t\tjson.dump(metadata, metadata_file)"
   ]
  },
  {
   "cell_type": "code",
   "execution_count": 27,
   "metadata": {},
   "outputs": [
    {
     "name": "stdout",
     "output_type": "stream",
     "text": [
      "Total missing: 2042\n",
      "Non-matching labels:\n",
      "Adamantinomatous craniopharyngioma: 65 85\n",
      "Angiomatous meningioma: 31 32\n",
      "Myxopapillary ependymoma: 22 23\n",
      "Haemangioblastoma: 19 88\n",
      "Pilomyxoid astrocytoma: 18 24\n",
      "Anaplastic oligodendroglioma, IDH-mutant and 1p/19q codeleted: 17 91\n",
      "Diffuse astrocytoma, IDH-wildtype: 17 19\n",
      "Meningothelial meningioma: 16 104\n",
      "Chondrosarcoma: 15 21\n",
      "Giant cell glioblastoma: 15 21\n",
      "Germinoma: 15 20\n",
      "Haemangiopericytoma: 13 34\n",
      "Psammomatous meningioma: 12 28\n",
      "Microcystic meningioma: 12 23\n",
      "Dysembryoplastic neuroepithelial tumour: 11 25\n",
      "Atypical meningioma: 10 83\n",
      "Olfactory neuroblastoma: 8 10\n",
      "Osteoma: 8 9\n",
      "Medulloblastoma, non-WNT/non-SHH: 8 32\n",
      "Schwannoma: 7 81\n",
      "Anaplastic astrocytoma, IDH-wildtype: 7 47\n",
      "Gliosarcoma: 7 59\n",
      "Fibrous meningioma: 7 57\n",
      "Desmoplastic infantile astrocytoma and ganglioglioma: 5 11\n",
      "Ganglioglioma: 4 88\n",
      "Anaplastic meningioma: 3 46\n",
      "Cellular schwannoma: 3 25\n",
      "Pilocytic astrocytoma: 3 173\n",
      "Papillary craniopharyngioma: 3 13\n",
      "Neurofibroma: 3 16\n",
      "Chordoid glioma of the third ventricle: 3 4\n",
      "Diffuse astrocytoma, IDH-mutant: 2 70\n",
      "Glioblastoma, IDH-wildtype: 1 474\n",
      "Pleomorphic xanthoastrocytoma: 1 21\n",
      "Paraganglioma: 1 17\n",
      "MALT lymphoma of the dura: 1 5\n",
      "Papillary meningioma: 1 3\n",
      "Pituicytoma: 1 3\n",
      "Transitional meningioma: -1 68\n",
      "Pituitary adenoma: -1 99\n",
      "Oligodendroglioma, IDH-mutant and 1p/19q codeleted: -1 85\n",
      "Medulloblastoma, SHH-activated and TP53-wildtype: -1 9\n",
      "Rhabdoid meningioma: -1 5\n",
      "Subependymoma: -1 24\n",
      "Anaplastic ependymoma: -1 50\n",
      "Choroid plexus papilloma: -1 21\n",
      "Diffuse large B-cell lymphoma of the CNS: -1 59\n",
      "Subependymal giant cell astrocytoma: -1 14\n",
      "Choroid plexus carcinoma: -1 7\n"
     ]
    }
   ],
   "source": [
    "diagnosis_counts = df['diagnosis'].value_counts()\n",
    "\n",
    "diagnosis_labels = df['diagnosis'].fillna('nan').unique()\n",
    "\n",
    "def compare(compare_path):\n",
    "    missing = []\n",
    "    for label in diagnosis_labels:\n",
    "        folder_path = os.path.join(compare_path, label.replace(\"/\", \"-\"))\n",
    "        num_files = len(glob.glob(os.path.join(folder_path, '*.png')))\n",
    "        if os.path.exists(folder_path) and num_files == 0:\n",
    "            shutil.rmtree(folder_path)\n",
    "        if not os.path.exists(folder_path):\n",
    "            missing.append((label, -1))\n",
    "        else:\n",
    "            missing.append((label, num_files))\n",
    "    return missing\n",
    "\n",
    "folder_path = \"C:/Users/Kontor/Github Repos/Notebooks/biomedical/processed\"\n",
    "missing_labels = compare(folder_path)\n",
    "\n",
    "matching_labels = []\n",
    "non_matching_labels = []\n",
    "total_missing = 0\n",
    "\n",
    "for label, num_files in missing_labels:\n",
    "    if label != 'nan':\n",
    "        if num_files == diagnosis_counts[label]:\n",
    "            matching_labels.append((label, num_files))\n",
    "        else:\n",
    "            total_missing += diagnosis_counts[label] - num_files\n",
    "            non_matching_labels.append((label, num_files))\n",
    "\n",
    "matching_labels = sorted(matching_labels, key=lambda x: x[1], reverse=True)\n",
    "non_matching_labels = sorted(non_matching_labels, key=lambda x: x[1], reverse=True)\n",
    "\n",
    "#print(\"Matching labels:\")\n",
    "#for label, num_files in matching_labels:\n",
    "#    print(f\"{label}: {num_files}\")\n",
    "#print()\n",
    "print('Total missing:', total_missing)\n",
    "print(\"Non-matching labels:\")\n",
    "for label, num_files in non_matching_labels:\n",
    "    print(f\"{label}: {num_files}\", diagnosis_counts[label])"
   ]
  },
  {
   "attachments": {},
   "cell_type": "markdown",
   "metadata": {},
   "source": [
    "# Automate download"
   ]
  },
  {
   "attachments": {},
   "cell_type": "markdown",
   "metadata": {},
   "source": [
    "Size of the dataset is 3948.2021661920003 GB"
   ]
  },
  {
   "cell_type": "code",
   "execution_count": 23,
   "metadata": {},
   "outputs": [],
   "source": [
    "url = 'https://data-proxy.ebrains.eu/api/v1/datasets/8fc108ab-e2b4-406f-8999-60269dc1f994?limit=5000'\n",
    "header = \"Bearer eyJhbGciOiJSUzI1NiIsInR5cCIgOiAiSldUIiwia2lkIiA6ICJfNkZVSHFaSDNIRmVhS0pEZDhXcUx6LWFlZ3kzYXFodVNJZ1RXaTA1U2k0In0.eyJleHAiOjE2ODQzMzI0OTEsImlhdCI6MTY4MzcyODEwMiwiYXV0aF90aW1lIjoxNjgzNzI3NjkxLCJqdGkiOiI4MTE2ZmJhMC1lNmMwLTQxMzMtOWY3Zi0xNmM5NDQxZDIyMzciLCJpc3MiOiJodHRwczovL2lhbS5lYnJhaW5zLmV1L2F1dGgvcmVhbG1zL2hicCIsImF1ZCI6InRlYW0iLCJzdWIiOiI4NTBlNTA2Ni1mNGQwLTRjOGItYmNiYy02ZjM4ZWQzYjIzMjIiLCJ0eXAiOiJCZWFyZXIiLCJhenAiOiJkYXRhLXByb3h5LWZyb250Iiwibm9uY2UiOiJiYzM0NGYxMS00MDBmLTRiNmUtOTRiOC04MDBkZDcyYWM4MDAiLCJzZXNzaW9uX3N0YXRlIjoiNzNjZmNlMWYtOTQ5MC00OTg4LTlhOTktMjBlZGJkYmFkNjIwIiwiYWNyIjoiMCIsImFsbG93ZWQtb3JpZ2lucyI6WyJodHRwczovL2RhdGEtcHJveHkuZWJyYWlucy5ldSIsImh0dHBzOi8vZGF0YS1wcm94eS1wcGQuZWJyYWlucy5ldSJdLCJzY29wZSI6InByb2ZpbGUgcm9sZXMgZW1haWwgb3BlbmlkIHRlYW0iLCJzaWQiOiI3M2NmY2UxZi05NDkwLTQ5ODgtOWE5OS0yMGVkYmRiYWQ2MjAiLCJlbWFpbF92ZXJpZmllZCI6dHJ1ZSwibmFtZSI6IkZhYmlhbiBLb250b3IiLCJtaXRyZWlkLXN1YiI6IjMxMDM5NiIsInByZWZlcnJlZF91c2VybmFtZSI6ImZrb250b3IiLCJnaXZlbl9uYW1lIjoiRmFiaWFuIiwiZmFtaWx5X25hbWUiOiJLb250b3IiLCJlbWFpbCI6ImYua29udG9yQHN0dWQudW5pLWhlaWRlbGJlcmcuZGUifQ.Fh2l9MKbT3wMxQsOy7afpMWzotylHJnumL_TCl784zXT-7pGMXOAPN5jNuEiGCAhQOoWrs2Jj3TRWnoDb3IJ2ts2cgeC4NdNjYGP4g9PX5ZamFv60B3g6rh_JXqwLzCYHzcP_K4_Z4J3PENKiRMQq-miN_xjjzYXSleCpMR7AEIyKA7amsx1vx2PQ_VXZC3mCX8qoMQFrqwg0HXpNY6a9yj5WbR_cXat65BCcS5Q52bB8tr9EHfZs9RX_fLgt4C-gCvBAfh0QBCaoNV0P4CWPS959SIcCSAUlb8cXqojyMZADLjjw7BVXombxYAURycIMX_84K9wrnWW5L-WGOOM4g\"\n",
    "\n",
    "def request(url, header):\n",
    "\tresponse = requests.get(url, headers={'Authorization': header})\n",
    "\tif response.status_code == 200:\n",
    "\t\treturn response.json()\n",
    "\telse:\n",
    "\t\tprint(response.json())\n",
    "\t\tprint(f'Request failed with status code {response.status_code}')\n",
    "\t\treturn None\n",
    "\t\n",
    "def download(url, filename, header):\n",
    "\t\n",
    "\twith requests.get(url, headers={'Authorization': header}, stream=True) as r:\n",
    "\t\ttotal_size = int(r.headers.get('content-length', 0))\n",
    "\t\tblock_size = 1024 #1 Kibibyte\n",
    "\n",
    "\t\tprogress_bar = tqdm(total=total_size, unit=\"iB\", unit_scale=True)\n",
    "\n",
    "\t\twith open(filename, \"wb\") as f:\n",
    "\t\t\tfor chunk in r.iter_content(block_size):\n",
    "\t\t\t\tprogress_bar.update(len(chunk))\n",
    "\t\t\t\tf.write(chunk)\n",
    "\t\t\n",
    "\t\tprogress_bar.close()\n",
    "\t\tr.close()\n",
    "\t\t\n",
    "\tif total_size != 0 and progress_bar.n != total_size:\n",
    "\t\tprint(\"ERROR, something went wrong\")\n",
    "\t\treturn False\n",
    "\telse:\n",
    "\t\treturn True\n",
    "\n",
    "data = request(url, header)"
   ]
  },
  {
   "cell_type": "code",
   "execution_count": 31,
   "metadata": {},
   "outputs": [
    {
     "name": "stdout",
     "output_type": "stream",
     "text": [
      "67/85: Starting download of Adamantinomatous craniopharyngioma/a1976886-357f-11eb-b250-001a7dda7111.ndpi\n"
     ]
    },
    {
     "data": {
      "application/json": {
       "ascii": false,
       "bar_format": null,
       "colour": null,
       "elapsed": 0.0050008296966552734,
       "initial": 0,
       "n": 0,
       "ncols": null,
       "nrows": null,
       "postfix": null,
       "prefix": "",
       "rate": null,
       "total": 265531726,
       "unit": "iB",
       "unit_divisor": 1000,
       "unit_scale": true
      },
      "application/vnd.jupyter.widget-view+json": {
       "model_id": "e7837975ac8146f39d057b7f6fb3e443",
       "version_major": 2,
       "version_minor": 0
      },
      "text/plain": [
       "  0%|          | 0.00/266M [00:00<?, ?iB/s]"
      ]
     },
     "metadata": {},
     "output_type": "display_data"
    },
    {
     "name": "stdout",
     "output_type": "stream",
     "text": [
      "68/85: Starting download of Adamantinomatous craniopharyngioma/a1978fba-357f-11eb-a4d3-001a7dda7111.ndpi\n"
     ]
    },
    {
     "data": {
      "application/json": {
       "ascii": false,
       "bar_format": null,
       "colour": null,
       "elapsed": 0.006000041961669922,
       "initial": 0,
       "n": 0,
       "ncols": null,
       "nrows": null,
       "postfix": null,
       "prefix": "",
       "rate": null,
       "total": 290144442,
       "unit": "iB",
       "unit_divisor": 1000,
       "unit_scale": true
      },
      "application/vnd.jupyter.widget-view+json": {
       "model_id": "4d0cacc7b26c49d4a5f3513a8cbae572",
       "version_major": 2,
       "version_minor": 0
      },
      "text/plain": [
       "  0%|          | 0.00/290M [00:00<?, ?iB/s]"
      ]
     },
     "metadata": {},
     "output_type": "display_data"
    },
    {
     "name": "stdout",
     "output_type": "stream",
     "text": [
      "69/85: Starting download of Adamantinomatous craniopharyngioma/a1978ffa-357f-11eb-931e-001a7dda7111.ndpi\n"
     ]
    },
    {
     "data": {
      "application/json": {
       "ascii": false,
       "bar_format": null,
       "colour": null,
       "elapsed": 0.0050008296966552734,
       "initial": 0,
       "n": 0,
       "ncols": null,
       "nrows": null,
       "postfix": null,
       "prefix": "",
       "rate": null,
       "total": 1311587699,
       "unit": "iB",
       "unit_divisor": 1000,
       "unit_scale": true
      },
      "application/vnd.jupyter.widget-view+json": {
       "model_id": "c5e0985400e84f90a50d005d2a91132b",
       "version_major": 2,
       "version_minor": 0
      },
      "text/plain": [
       "  0%|          | 0.00/1.31G [00:00<?, ?iB/s]"
      ]
     },
     "metadata": {},
     "output_type": "display_data"
    },
    {
     "name": "stdout",
     "output_type": "stream",
     "text": [
      "70/85: Starting download of Adamantinomatous craniopharyngioma/a197b6f9-357f-11eb-94d8-001a7dda7111.ndpi\n"
     ]
    },
    {
     "data": {
      "application/json": {
       "ascii": false,
       "bar_format": null,
       "colour": null,
       "elapsed": 0.0050013065338134766,
       "initial": 0,
       "n": 0,
       "ncols": null,
       "nrows": null,
       "postfix": null,
       "prefix": "",
       "rate": null,
       "total": 458799598,
       "unit": "iB",
       "unit_divisor": 1000,
       "unit_scale": true
      },
      "application/vnd.jupyter.widget-view+json": {
       "model_id": "aa4e761a4c74420b8546f36ec7b6b6f3",
       "version_major": 2,
       "version_minor": 0
      },
      "text/plain": [
       "  0%|          | 0.00/459M [00:00<?, ?iB/s]"
      ]
     },
     "metadata": {},
     "output_type": "display_data"
    },
    {
     "name": "stdout",
     "output_type": "stream",
     "text": [
      "71/85: Starting download of Adamantinomatous craniopharyngioma/a197b701-357f-11eb-a3b4-001a7dda7111.ndpi\n"
     ]
    },
    {
     "data": {
      "application/json": {
       "ascii": false,
       "bar_format": null,
       "colour": null,
       "elapsed": 0.006001710891723633,
       "initial": 0,
       "n": 0,
       "ncols": null,
       "nrows": null,
       "postfix": null,
       "prefix": "",
       "rate": null,
       "total": 36482573,
       "unit": "iB",
       "unit_divisor": 1000,
       "unit_scale": true
      },
      "application/vnd.jupyter.widget-view+json": {
       "model_id": "e01dac9f6d1946b589b578e4541b5553",
       "version_major": 2,
       "version_minor": 0
      },
      "text/plain": [
       "  0%|          | 0.00/36.5M [00:00<?, ?iB/s]"
      ]
     },
     "metadata": {},
     "output_type": "display_data"
    },
    {
     "name": "stdout",
     "output_type": "stream",
     "text": [
      "72/85: Starting download of Adamantinomatous craniopharyngioma/a197ddb6-357f-11eb-863c-001a7dda7111.ndpi\n"
     ]
    },
    {
     "data": {
      "application/json": {
       "ascii": false,
       "bar_format": null,
       "colour": null,
       "elapsed": 0.00699925422668457,
       "initial": 0,
       "n": 0,
       "ncols": null,
       "nrows": null,
       "postfix": null,
       "prefix": "",
       "rate": null,
       "total": 1097417186,
       "unit": "iB",
       "unit_divisor": 1000,
       "unit_scale": true
      },
      "application/vnd.jupyter.widget-view+json": {
       "model_id": "b58c7c1a880143af85843352dbc90deb",
       "version_major": 2,
       "version_minor": 0
      },
      "text/plain": [
       "  0%|          | 0.00/1.10G [00:00<?, ?iB/s]"
      ]
     },
     "metadata": {},
     "output_type": "display_data"
    },
    {
     "name": "stdout",
     "output_type": "stream",
     "text": [
      "73/85: Starting download of Adamantinomatous craniopharyngioma/a197ddbf-357f-11eb-b7f7-001a7dda7111.ndpi\n"
     ]
    },
    {
     "data": {
      "application/json": {
       "ascii": false,
       "bar_format": null,
       "colour": null,
       "elapsed": 0.0050013065338134766,
       "initial": 0,
       "n": 0,
       "ncols": null,
       "nrows": null,
       "postfix": null,
       "prefix": "",
       "rate": null,
       "total": 1169775905,
       "unit": "iB",
       "unit_divisor": 1000,
       "unit_scale": true
      },
      "application/vnd.jupyter.widget-view+json": {
       "model_id": "fe9df871c3634c77b58bccd4fc68aad0",
       "version_major": 2,
       "version_minor": 0
      },
      "text/plain": [
       "  0%|          | 0.00/1.17G [00:00<?, ?iB/s]"
      ]
     },
     "metadata": {},
     "output_type": "display_data"
    },
    {
     "name": "stdout",
     "output_type": "stream",
     "text": [
      "74/85: Starting download of Adamantinomatous craniopharyngioma/a197ddc7-357f-11eb-9b69-001a7dda7111.ndpi\n"
     ]
    },
    {
     "data": {
      "application/json": {
       "ascii": false,
       "bar_format": null,
       "colour": null,
       "elapsed": 0.004998922348022461,
       "initial": 0,
       "n": 0,
       "ncols": null,
       "nrows": null,
       "postfix": null,
       "prefix": "",
       "rate": null,
       "total": 391534431,
       "unit": "iB",
       "unit_divisor": 1000,
       "unit_scale": true
      },
      "application/vnd.jupyter.widget-view+json": {
       "model_id": "8010c8df9e744e32b824fb086f1b451e",
       "version_major": 2,
       "version_minor": 0
      },
      "text/plain": [
       "  0%|          | 0.00/392M [00:00<?, ?iB/s]"
      ]
     },
     "metadata": {},
     "output_type": "display_data"
    },
    {
     "name": "stdout",
     "output_type": "stream",
     "text": [
      "75/85: Starting download of Adamantinomatous craniopharyngioma/a197de06-357f-11eb-8474-001a7dda7111.ndpi\n"
     ]
    },
    {
     "data": {
      "application/json": {
       "ascii": false,
       "bar_format": null,
       "colour": null,
       "elapsed": 0.006002902984619141,
       "initial": 0,
       "n": 0,
       "ncols": null,
       "nrows": null,
       "postfix": null,
       "prefix": "",
       "rate": null,
       "total": 845674037,
       "unit": "iB",
       "unit_divisor": 1000,
       "unit_scale": true
      },
      "application/vnd.jupyter.widget-view+json": {
       "model_id": "ddc8ca7c58df4e2eb7f2337454bb3845",
       "version_major": 2,
       "version_minor": 0
      },
      "text/plain": [
       "  0%|          | 0.00/846M [00:00<?, ?iB/s]"
      ]
     },
     "metadata": {},
     "output_type": "display_data"
    },
    {
     "ename": "KeyboardInterrupt",
     "evalue": "",
     "output_type": "error",
     "traceback": [
      "\u001b[1;31m---------------------------------------------------------------------------\u001b[0m",
      "\u001b[1;31mKeyboardInterrupt\u001b[0m                         Traceback (most recent call last)",
      "Cell \u001b[1;32mIn[31], line 21\u001b[0m\n\u001b[0;32m     19\u001b[0m n_files \u001b[39m=\u001b[39m \u001b[39mlen\u001b[39m(glob\u001b[39m.\u001b[39mglob(os\u001b[39m.\u001b[39mpath\u001b[39m.\u001b[39mjoin(data_folder_path, \u001b[39m'\u001b[39m\u001b[39m*.png\u001b[39m\u001b[39m'\u001b[39m)))\n\u001b[0;32m     20\u001b[0m \u001b[39mprint\u001b[39m(\u001b[39mf\u001b[39m\u001b[39m'\u001b[39m\u001b[39m{\u001b[39;00mn_files\u001b[39m+\u001b[39m\u001b[39m1\u001b[39m\u001b[39m}\u001b[39;00m\u001b[39m/\u001b[39m\u001b[39m{\u001b[39;00mdiagnosis_counts[label]\u001b[39m}\u001b[39;00m\u001b[39m: Starting download of\u001b[39m\u001b[39m'\u001b[39m, name)\n\u001b[1;32m---> 21\u001b[0m \u001b[39mif\u001b[39;00m download(api_base_url \u001b[39m+\u001b[39;49m \u001b[39m'\u001b[39;49m\u001b[39mv1.0/\u001b[39;49m\u001b[39m'\u001b[39;49m \u001b[39m+\u001b[39;49m name, file_path, header):\n\u001b[0;32m     22\u001b[0m \tsave_image(data_folder_path, file)\n\u001b[0;32m     23\u001b[0m os\u001b[39m.\u001b[39mremove(file_path)\n",
      "Cell \u001b[1;32mIn[23], line 22\u001b[0m, in \u001b[0;36mdownload\u001b[1;34m(url, filename, header)\u001b[0m\n\u001b[0;32m     19\u001b[0m progress_bar \u001b[39m=\u001b[39m tqdm(total\u001b[39m=\u001b[39mtotal_size, unit\u001b[39m=\u001b[39m\u001b[39m\"\u001b[39m\u001b[39miB\u001b[39m\u001b[39m\"\u001b[39m, unit_scale\u001b[39m=\u001b[39m\u001b[39mTrue\u001b[39;00m)\n\u001b[0;32m     21\u001b[0m \u001b[39mwith\u001b[39;00m \u001b[39mopen\u001b[39m(filename, \u001b[39m\"\u001b[39m\u001b[39mwb\u001b[39m\u001b[39m\"\u001b[39m) \u001b[39mas\u001b[39;00m f:\n\u001b[1;32m---> 22\u001b[0m \t\u001b[39mfor\u001b[39;00m chunk \u001b[39min\u001b[39;00m r\u001b[39m.\u001b[39miter_content(block_size):\n\u001b[0;32m     23\u001b[0m \t\tprogress_bar\u001b[39m.\u001b[39mupdate(\u001b[39mlen\u001b[39m(chunk))\n\u001b[0;32m     24\u001b[0m \t\tf\u001b[39m.\u001b[39mwrite(chunk)\n",
      "File \u001b[1;32ma:\\Programs\\anaconda3\\envs\\ai\\lib\\site-packages\\requests\\models.py:816\u001b[0m, in \u001b[0;36mResponse.iter_content.<locals>.generate\u001b[1;34m()\u001b[0m\n\u001b[0;32m    814\u001b[0m \u001b[39mif\u001b[39;00m \u001b[39mhasattr\u001b[39m(\u001b[39mself\u001b[39m\u001b[39m.\u001b[39mraw, \u001b[39m\"\u001b[39m\u001b[39mstream\u001b[39m\u001b[39m\"\u001b[39m):\n\u001b[0;32m    815\u001b[0m     \u001b[39mtry\u001b[39;00m:\n\u001b[1;32m--> 816\u001b[0m         \u001b[39myield from\u001b[39;00m \u001b[39mself\u001b[39m\u001b[39m.\u001b[39mraw\u001b[39m.\u001b[39mstream(chunk_size, decode_content\u001b[39m=\u001b[39m\u001b[39mTrue\u001b[39;00m)\n\u001b[0;32m    817\u001b[0m     \u001b[39mexcept\u001b[39;00m ProtocolError \u001b[39mas\u001b[39;00m e:\n\u001b[0;32m    818\u001b[0m         \u001b[39mraise\u001b[39;00m ChunkedEncodingError(e)\n",
      "File \u001b[1;32ma:\\Programs\\anaconda3\\envs\\ai\\lib\\site-packages\\urllib3\\response.py:627\u001b[0m, in \u001b[0;36mHTTPResponse.stream\u001b[1;34m(self, amt, decode_content)\u001b[0m\n\u001b[0;32m    625\u001b[0m \u001b[39melse\u001b[39;00m:\n\u001b[0;32m    626\u001b[0m     \u001b[39mwhile\u001b[39;00m \u001b[39mnot\u001b[39;00m is_fp_closed(\u001b[39mself\u001b[39m\u001b[39m.\u001b[39m_fp):\n\u001b[1;32m--> 627\u001b[0m         data \u001b[39m=\u001b[39m \u001b[39mself\u001b[39;49m\u001b[39m.\u001b[39;49mread(amt\u001b[39m=\u001b[39;49mamt, decode_content\u001b[39m=\u001b[39;49mdecode_content)\n\u001b[0;32m    629\u001b[0m         \u001b[39mif\u001b[39;00m data:\n\u001b[0;32m    630\u001b[0m             \u001b[39myield\u001b[39;00m data\n",
      "File \u001b[1;32ma:\\Programs\\anaconda3\\envs\\ai\\lib\\site-packages\\urllib3\\response.py:566\u001b[0m, in \u001b[0;36mHTTPResponse.read\u001b[1;34m(self, amt, decode_content, cache_content)\u001b[0m\n\u001b[0;32m    563\u001b[0m fp_closed \u001b[39m=\u001b[39m \u001b[39mgetattr\u001b[39m(\u001b[39mself\u001b[39m\u001b[39m.\u001b[39m_fp, \u001b[39m\"\u001b[39m\u001b[39mclosed\u001b[39m\u001b[39m\"\u001b[39m, \u001b[39mFalse\u001b[39;00m)\n\u001b[0;32m    565\u001b[0m \u001b[39mwith\u001b[39;00m \u001b[39mself\u001b[39m\u001b[39m.\u001b[39m_error_catcher():\n\u001b[1;32m--> 566\u001b[0m     data \u001b[39m=\u001b[39m \u001b[39mself\u001b[39;49m\u001b[39m.\u001b[39;49m_fp_read(amt) \u001b[39mif\u001b[39;00m \u001b[39mnot\u001b[39;00m fp_closed \u001b[39melse\u001b[39;00m \u001b[39mb\u001b[39m\u001b[39m\"\u001b[39m\u001b[39m\"\u001b[39m\n\u001b[0;32m    567\u001b[0m     \u001b[39mif\u001b[39;00m amt \u001b[39mis\u001b[39;00m \u001b[39mNone\u001b[39;00m:\n\u001b[0;32m    568\u001b[0m         flush_decoder \u001b[39m=\u001b[39m \u001b[39mTrue\u001b[39;00m\n",
      "File \u001b[1;32ma:\\Programs\\anaconda3\\envs\\ai\\lib\\site-packages\\urllib3\\response.py:532\u001b[0m, in \u001b[0;36mHTTPResponse._fp_read\u001b[1;34m(self, amt)\u001b[0m\n\u001b[0;32m    529\u001b[0m     \u001b[39mreturn\u001b[39;00m buffer\u001b[39m.\u001b[39mgetvalue()\n\u001b[0;32m    530\u001b[0m \u001b[39melse\u001b[39;00m:\n\u001b[0;32m    531\u001b[0m     \u001b[39m# StringIO doesn't like amt=None\u001b[39;00m\n\u001b[1;32m--> 532\u001b[0m     \u001b[39mreturn\u001b[39;00m \u001b[39mself\u001b[39;49m\u001b[39m.\u001b[39;49m_fp\u001b[39m.\u001b[39;49mread(amt) \u001b[39mif\u001b[39;00m amt \u001b[39mis\u001b[39;00m \u001b[39mnot\u001b[39;00m \u001b[39mNone\u001b[39;00m \u001b[39melse\u001b[39;00m \u001b[39mself\u001b[39m\u001b[39m.\u001b[39m_fp\u001b[39m.\u001b[39mread()\n",
      "File \u001b[1;32ma:\\Programs\\anaconda3\\envs\\ai\\lib\\http\\client.py:459\u001b[0m, in \u001b[0;36mHTTPResponse.read\u001b[1;34m(self, amt)\u001b[0m\n\u001b[0;32m    456\u001b[0m \u001b[39mif\u001b[39;00m amt \u001b[39mis\u001b[39;00m \u001b[39mnot\u001b[39;00m \u001b[39mNone\u001b[39;00m:\n\u001b[0;32m    457\u001b[0m     \u001b[39m# Amount is given, implement using readinto\u001b[39;00m\n\u001b[0;32m    458\u001b[0m     b \u001b[39m=\u001b[39m \u001b[39mbytearray\u001b[39m(amt)\n\u001b[1;32m--> 459\u001b[0m     n \u001b[39m=\u001b[39m \u001b[39mself\u001b[39;49m\u001b[39m.\u001b[39;49mreadinto(b)\n\u001b[0;32m    460\u001b[0m     \u001b[39mreturn\u001b[39;00m \u001b[39mmemoryview\u001b[39m(b)[:n]\u001b[39m.\u001b[39mtobytes()\n\u001b[0;32m    461\u001b[0m \u001b[39melse\u001b[39;00m:\n\u001b[0;32m    462\u001b[0m     \u001b[39m# Amount is not given (unbounded read) so we must check self.length\u001b[39;00m\n\u001b[0;32m    463\u001b[0m     \u001b[39m# and self.chunked\u001b[39;00m\n",
      "File \u001b[1;32ma:\\Programs\\anaconda3\\envs\\ai\\lib\\http\\client.py:503\u001b[0m, in \u001b[0;36mHTTPResponse.readinto\u001b[1;34m(self, b)\u001b[0m\n\u001b[0;32m    498\u001b[0m         b \u001b[39m=\u001b[39m \u001b[39mmemoryview\u001b[39m(b)[\u001b[39m0\u001b[39m:\u001b[39mself\u001b[39m\u001b[39m.\u001b[39mlength]\n\u001b[0;32m    500\u001b[0m \u001b[39m# we do not use _safe_read() here because this may be a .will_close\u001b[39;00m\n\u001b[0;32m    501\u001b[0m \u001b[39m# connection, and the user is reading more bytes than will be provided\u001b[39;00m\n\u001b[0;32m    502\u001b[0m \u001b[39m# (for example, reading in 1k chunks)\u001b[39;00m\n\u001b[1;32m--> 503\u001b[0m n \u001b[39m=\u001b[39m \u001b[39mself\u001b[39;49m\u001b[39m.\u001b[39;49mfp\u001b[39m.\u001b[39;49mreadinto(b)\n\u001b[0;32m    504\u001b[0m \u001b[39mif\u001b[39;00m \u001b[39mnot\u001b[39;00m n \u001b[39mand\u001b[39;00m b:\n\u001b[0;32m    505\u001b[0m     \u001b[39m# Ideally, we would raise IncompleteRead if the content-length\u001b[39;00m\n\u001b[0;32m    506\u001b[0m     \u001b[39m# wasn't satisfied, but it might break compatibility.\u001b[39;00m\n\u001b[0;32m    507\u001b[0m     \u001b[39mself\u001b[39m\u001b[39m.\u001b[39m_close_conn()\n",
      "File \u001b[1;32ma:\\Programs\\anaconda3\\envs\\ai\\lib\\socket.py:669\u001b[0m, in \u001b[0;36mSocketIO.readinto\u001b[1;34m(self, b)\u001b[0m\n\u001b[0;32m    667\u001b[0m \u001b[39mwhile\u001b[39;00m \u001b[39mTrue\u001b[39;00m:\n\u001b[0;32m    668\u001b[0m     \u001b[39mtry\u001b[39;00m:\n\u001b[1;32m--> 669\u001b[0m         \u001b[39mreturn\u001b[39;00m \u001b[39mself\u001b[39;49m\u001b[39m.\u001b[39;49m_sock\u001b[39m.\u001b[39;49mrecv_into(b)\n\u001b[0;32m    670\u001b[0m     \u001b[39mexcept\u001b[39;00m timeout:\n\u001b[0;32m    671\u001b[0m         \u001b[39mself\u001b[39m\u001b[39m.\u001b[39m_timeout_occurred \u001b[39m=\u001b[39m \u001b[39mTrue\u001b[39;00m\n",
      "File \u001b[1;32ma:\\Programs\\anaconda3\\envs\\ai\\lib\\ssl.py:1241\u001b[0m, in \u001b[0;36mSSLSocket.recv_into\u001b[1;34m(self, buffer, nbytes, flags)\u001b[0m\n\u001b[0;32m   1237\u001b[0m     \u001b[39mif\u001b[39;00m flags \u001b[39m!=\u001b[39m \u001b[39m0\u001b[39m:\n\u001b[0;32m   1238\u001b[0m         \u001b[39mraise\u001b[39;00m \u001b[39mValueError\u001b[39;00m(\n\u001b[0;32m   1239\u001b[0m           \u001b[39m\"\u001b[39m\u001b[39mnon-zero flags not allowed in calls to recv_into() on \u001b[39m\u001b[39m%s\u001b[39;00m\u001b[39m\"\u001b[39m \u001b[39m%\u001b[39m\n\u001b[0;32m   1240\u001b[0m           \u001b[39mself\u001b[39m\u001b[39m.\u001b[39m\u001b[39m__class__\u001b[39m)\n\u001b[1;32m-> 1241\u001b[0m     \u001b[39mreturn\u001b[39;00m \u001b[39mself\u001b[39;49m\u001b[39m.\u001b[39;49mread(nbytes, buffer)\n\u001b[0;32m   1242\u001b[0m \u001b[39melse\u001b[39;00m:\n\u001b[0;32m   1243\u001b[0m     \u001b[39mreturn\u001b[39;00m \u001b[39msuper\u001b[39m()\u001b[39m.\u001b[39mrecv_into(buffer, nbytes, flags)\n",
      "File \u001b[1;32ma:\\Programs\\anaconda3\\envs\\ai\\lib\\ssl.py:1099\u001b[0m, in \u001b[0;36mSSLSocket.read\u001b[1;34m(self, len, buffer)\u001b[0m\n\u001b[0;32m   1097\u001b[0m \u001b[39mtry\u001b[39;00m:\n\u001b[0;32m   1098\u001b[0m     \u001b[39mif\u001b[39;00m buffer \u001b[39mis\u001b[39;00m \u001b[39mnot\u001b[39;00m \u001b[39mNone\u001b[39;00m:\n\u001b[1;32m-> 1099\u001b[0m         \u001b[39mreturn\u001b[39;00m \u001b[39mself\u001b[39;49m\u001b[39m.\u001b[39;49m_sslobj\u001b[39m.\u001b[39;49mread(\u001b[39mlen\u001b[39;49m, buffer)\n\u001b[0;32m   1100\u001b[0m     \u001b[39melse\u001b[39;00m:\n\u001b[0;32m   1101\u001b[0m         \u001b[39mreturn\u001b[39;00m \u001b[39mself\u001b[39m\u001b[39m.\u001b[39m_sslobj\u001b[39m.\u001b[39mread(\u001b[39mlen\u001b[39m)\n",
      "\u001b[1;31mKeyboardInterrupt\u001b[0m: "
     ]
    }
   ],
   "source": [
    "total_downloads = 0\n",
    "\n",
    "api_base_url = 'https://data-proxy.ebrains.eu/api/v1/datasets/8fc108ab-e2b4-406f-8999-60269dc1f994/'\n",
    "\n",
    "for obj in data['objects']:\n",
    "\tname = obj['name'].replace('v1.0/', '')\n",
    "\tname = name.replace('Embryonal tumour with multilayered rosette, C19MC-altered', 'Embryonal tumour with multilayered rosettes, C19MC-altered')\n",
    "\tif name == 'annotation.csv':\n",
    "\t\tcontinue\n",
    "\tlabel, file = name.split('/')\n",
    "\n",
    "\tdata_folder_path = os.path.join(folder_path, label)\n",
    "\tif not os.path.exists(data_folder_path):\n",
    "\t\tos.makedirs(data_folder_path)\n",
    "\n",
    "\tfile_path = os.path.join(data_folder_path, file)\n",
    "\tpng_path = file_path.replace('.ndpi', '.png')\n",
    "\tif not os.path.exists(png_path):\n",
    "\t\tn_files = len(glob.glob(os.path.join(data_folder_path, '*.png')))\n",
    "\t\tprint(f'{n_files+1}/{diagnosis_counts[label]}: Starting download of', name)\n",
    "\t\tif download(api_base_url + 'v1.0/' + name, file_path, header):\n",
    "\t\t\tsave_image(data_folder_path, file)\n",
    "\t\tos.remove(file_path)\n",
    "\t\ttotal_downloads += 1\n",
    "\n",
    "print('Finished downloading', total_downloads, 'files')"
   ]
  },
  {
   "attachments": {},
   "cell_type": "markdown",
   "metadata": {},
   "source": [
    "Deprecated: was used to compare two versions of downloader folders to see which one has more data"
   ]
  },
  {
   "cell_type": "code",
   "execution_count": 11,
   "metadata": {},
   "outputs": [
    {
     "name": "stdout",
     "output_type": "stream",
     "text": [
      "Trying again with mag 3\n",
      "Trying again with mag 2\n"
     ]
    },
    {
     "ename": "ArgumentError",
     "evalue": "argument 1: <class 'ValueError'>: Passing closed slide object",
     "output_type": "error",
     "traceback": [
      "\u001b[1;31m---------------------------------------------------------------------------\u001b[0m",
      "\u001b[1;31mArgumentError\u001b[0m                             Traceback (most recent call last)",
      "Cell \u001b[1;32mIn[8], line 47\u001b[0m, in \u001b[0;36mget_image_with_min_size\u001b[1;34m(file_path, min_size)\u001b[0m\n\u001b[0;32m     46\u001b[0m \tndpi_file\u001b[39m.\u001b[39mclose()\n\u001b[1;32m---> 47\u001b[0m \t\u001b[39mreturn\u001b[39;00m ndpi_image, \u001b[39mdict\u001b[39;49m(ndpi_metadata)\n\u001b[0;32m     48\u001b[0m \u001b[39mexcept\u001b[39;00m:\n",
      "File \u001b[1;32ma:\\Programs\\anaconda3\\envs\\ai\\lib\\_collections_abc.py:720\u001b[0m, in \u001b[0;36mKeysView.__iter__\u001b[1;34m(self)\u001b[0m\n\u001b[0;32m    719\u001b[0m \u001b[39mdef\u001b[39;00m \u001b[39m__iter__\u001b[39m(\u001b[39mself\u001b[39m):\n\u001b[1;32m--> 720\u001b[0m     \u001b[39myield from\u001b[39;00m \u001b[39mself\u001b[39m\u001b[39m.\u001b[39m_mapping\n",
      "File \u001b[1;32ma:\\Programs\\anaconda3\\envs\\ai\\lib\\site-packages\\openslide\\__init__.py:264\u001b[0m, in \u001b[0;36m_OpenSlideMap.__iter__\u001b[1;34m(self)\u001b[0m\n\u001b[0;32m    263\u001b[0m \u001b[39mdef\u001b[39;00m \u001b[39m__iter__\u001b[39m(\u001b[39mself\u001b[39m):\n\u001b[1;32m--> 264\u001b[0m     \u001b[39mreturn\u001b[39;00m \u001b[39miter\u001b[39m(\u001b[39mself\u001b[39;49m\u001b[39m.\u001b[39;49m_keys())\n",
      "File \u001b[1;32ma:\\Programs\\anaconda3\\envs\\ai\\lib\\site-packages\\openslide\\__init__.py:273\u001b[0m, in \u001b[0;36m_PropertyMap._keys\u001b[1;34m(self)\u001b[0m\n\u001b[0;32m    272\u001b[0m \u001b[39mdef\u001b[39;00m \u001b[39m_keys\u001b[39m(\u001b[39mself\u001b[39m):\n\u001b[1;32m--> 273\u001b[0m     \u001b[39mreturn\u001b[39;00m lowlevel\u001b[39m.\u001b[39;49mget_property_names(\u001b[39mself\u001b[39;49m\u001b[39m.\u001b[39;49m_osr)\n",
      "\u001b[1;31mArgumentError\u001b[0m: argument 1: <class 'ValueError'>: Passing closed slide object",
      "\nDuring handling of the above exception, another exception occurred:\n",
      "\u001b[1;31mArgumentError\u001b[0m                             Traceback (most recent call last)",
      "Cell \u001b[1;32mIn[11], line 1\u001b[0m\n\u001b[1;32m----> 1\u001b[0m img \u001b[39m=\u001b[39m get_image_with_min_size(file_path)\n\u001b[0;32m      2\u001b[0m img\u001b[39m.\u001b[39msave(\u001b[39m\"\u001b[39m\u001b[39mtest.png\u001b[39m\u001b[39m\"\u001b[39m)\n",
      "Cell \u001b[1;32mIn[8], line 51\u001b[0m, in \u001b[0;36mget_image_with_min_size\u001b[1;34m(file_path, min_size)\u001b[0m\n\u001b[0;32m     49\u001b[0m \t\t\u001b[39mprint\u001b[39m(\u001b[39m'\u001b[39m\u001b[39mTrying again with mag\u001b[39m\u001b[39m'\u001b[39m, mag_level \u001b[39m-\u001b[39m \u001b[39m1\u001b[39m)\n\u001b[0;32m     50\u001b[0m \t\tmag_level \u001b[39m-\u001b[39m\u001b[39m=\u001b[39m \u001b[39m1\u001b[39m\n\u001b[1;32m---> 51\u001b[0m \t\tndpi_file\u001b[39m.\u001b[39;49mclose()\n\u001b[0;32m     53\u001b[0m \u001b[39mprint\u001b[39m(\u001b[39mf\u001b[39m\u001b[39m'\u001b[39m\u001b[39mError: Could not load image from \u001b[39m\u001b[39m{\u001b[39;00mfile_path\u001b[39m}\u001b[39;00m\u001b[39m at any magnification level\u001b[39m\u001b[39m'\u001b[39m)\n",
      "File \u001b[1;32ma:\\Programs\\anaconda3\\envs\\ai\\lib\\site-packages\\openslide\\__init__.py:180\u001b[0m, in \u001b[0;36mOpenSlide.close\u001b[1;34m(self)\u001b[0m\n\u001b[0;32m    178\u001b[0m \u001b[39mdef\u001b[39;00m \u001b[39mclose\u001b[39m(\u001b[39mself\u001b[39m):\n\u001b[0;32m    179\u001b[0m     \u001b[39m\"\"\"Close the OpenSlide object.\"\"\"\u001b[39;00m\n\u001b[1;32m--> 180\u001b[0m     lowlevel\u001b[39m.\u001b[39;49mclose(\u001b[39mself\u001b[39;49m\u001b[39m.\u001b[39;49m_osr)\n",
      "\u001b[1;31mArgumentError\u001b[0m: argument 1: <class 'ValueError'>: Passing closed slide object"
     ]
    }
   ],
   "source": [
    "\n",
    "\n",
    "img = get_image_with_min_size(file_path)\n",
    "img.save(\"test.png\")"
   ]
  },
  {
   "cell_type": "code",
   "execution_count": 1,
   "metadata": {},
   "outputs": [
    {
     "ename": "NameError",
     "evalue": "name 'diagnosis_labels' is not defined",
     "output_type": "error",
     "traceback": [
      "\u001b[1;31m---------------------------------------------------------------------------\u001b[0m",
      "\u001b[1;31mNameError\u001b[0m                                 Traceback (most recent call last)",
      "Cell \u001b[1;32mIn[1], line 15\u001b[0m\n\u001b[0;32m     12\u001b[0m path1 \u001b[39m=\u001b[39m \u001b[39m\"\u001b[39m\u001b[39mC:\u001b[39m\u001b[39m\\\\\u001b[39;00m\u001b[39mUsers\u001b[39m\u001b[39m\\\\\u001b[39;00m\u001b[39mKontor\u001b[39m\u001b[39m\\\\\u001b[39;00m\u001b[39mGithub Repos\u001b[39m\u001b[39m\\\\\u001b[39;00m\u001b[39mNotebooks\u001b[39m\u001b[39m\\\\\u001b[39;00m\u001b[39mbiomedical\u001b[39m\u001b[39m\\\\\u001b[39;00m\u001b[39mprocessed\u001b[39m\u001b[39m\"\u001b[39m\n\u001b[0;32m     13\u001b[0m path2 \u001b[39m=\u001b[39m \u001b[39m\"\u001b[39m\u001b[39mC:\u001b[39m\u001b[39m\\\\\u001b[39;00m\u001b[39mUsers\u001b[39m\u001b[39m\\\\\u001b[39;00m\u001b[39mKontor\u001b[39m\u001b[39m\\\\\u001b[39;00m\u001b[39mGithub Repos\u001b[39m\u001b[39m\\\\\u001b[39;00m\u001b[39mNotebooks\u001b[39m\u001b[39m\\\\\u001b[39;00m\u001b[39mbiomedical\u001b[39m\u001b[39m\\\\\u001b[39;00m\u001b[39mdata\u001b[39m\u001b[39m\"\u001b[39m\n\u001b[1;32m---> 15\u001b[0m missing1, present1 \u001b[39m=\u001b[39m compare(path1)\n\u001b[0;32m     16\u001b[0m missing2, present2 \u001b[39m=\u001b[39m compare(path2)\n\u001b[0;32m     18\u001b[0m \u001b[39mprint\u001b[39m(\u001b[39mlen\u001b[39m(missing1), missing1)\n",
      "Cell \u001b[1;32mIn[1], line 4\u001b[0m, in \u001b[0;36mcompare\u001b[1;34m(compare_path)\u001b[0m\n\u001b[0;32m      2\u001b[0m missing \u001b[39m=\u001b[39m []\n\u001b[0;32m      3\u001b[0m present \u001b[39m=\u001b[39m []\n\u001b[1;32m----> 4\u001b[0m \u001b[39mfor\u001b[39;00m label \u001b[39min\u001b[39;00m diagnosis_labels:\n\u001b[0;32m      5\u001b[0m \tfolder_path \u001b[39m=\u001b[39m os\u001b[39m.\u001b[39mpath\u001b[39m.\u001b[39mjoin(compare_path, label)\n\u001b[0;32m      6\u001b[0m \t\u001b[39mif\u001b[39;00m \u001b[39mnot\u001b[39;00m os\u001b[39m.\u001b[39mpath\u001b[39m.\u001b[39mexists(folder_path):\n",
      "\u001b[1;31mNameError\u001b[0m: name 'diagnosis_labels' is not defined"
     ]
    }
   ],
   "source": [
    "def compare(compare_path):\n",
    "\tmissing = []\n",
    "\tpresent = []\n",
    "\tfor label in diagnosis_labels:\n",
    "\t\tfolder_path = os.path.join(compare_path, label)\n",
    "\t\tif not os.path.exists(folder_path):\n",
    "\t\t\tmissing.append(label)\n",
    "\t\telse:\n",
    "\t\t\tpresent.append(label)\n",
    "\treturn sorted(missing), sorted(present)\n",
    "\n",
    "path1 = \"C:\\\\Users\\\\Kontor\\\\Github Repos\\\\Notebooks\\\\biomedical\\\\processed\"\n",
    "path2 = \"C:\\\\Users\\\\Kontor\\\\Github Repos\\\\Notebooks\\\\biomedical\\\\data\"\n",
    "\n",
    "missing1, present1 = compare(path1)\n",
    "missing2, present2 = compare(path2)\n",
    "\n",
    "print(len(missing1), missing1)\n",
    "print(len(missing2), missing2)\n",
    "overlapping_labels = sorted(list(set(missing1).intersection(set(missing2))))\n",
    "\n",
    "print(len(overlapping_labels), overlapping_labels)\n",
    "\n",
    "def get_file_overlap(path1, path2):\n",
    "\tfiles1 = [file for file in os.listdir(path1) if file.endswith('.png')]\n",
    "\tfiles2 = [file for file in os.listdir(path2) if file.endswith('.png')]\n",
    "\treturn sorted(list(set(files1).intersection(set(files2)))), sorted(files1), sorted(files2)\n",
    "\n",
    "for folder in os.listdir(path1):\n",
    "\tif folder in present1 and folder in present2:\n",
    "\t\toverlap, files1, files2 = get_file_overlap(os.path.join(path1, folder), os.path.join(path2, folder))\n",
    "\t\tif len(overlap) != len(files1) or len(overlap) != len(files2):\n",
    "\t\t\tprint(folder, len(overlap), len(files1), len(files2))"
   ]
  }
 ],
 "metadata": {
  "kernelspec": {
   "display_name": "ai",
   "language": "python",
   "name": "python3"
  },
  "language_info": {
   "codemirror_mode": {
    "name": "ipython",
    "version": 3
   },
   "file_extension": ".py",
   "mimetype": "text/x-python",
   "name": "python",
   "nbconvert_exporter": "python",
   "pygments_lexer": "ipython3",
   "version": "3.8.13"
  },
  "orig_nbformat": 4
 },
 "nbformat": 4,
 "nbformat_minor": 2
}
